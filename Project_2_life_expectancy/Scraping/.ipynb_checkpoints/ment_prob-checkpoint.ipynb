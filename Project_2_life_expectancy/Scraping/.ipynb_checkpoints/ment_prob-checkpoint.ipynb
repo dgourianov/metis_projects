{
 "cells": [
  {
   "cell_type": "markdown",
   "metadata": {},
   "source": [
    "## Creating Mental Health Dataframe \n",
    "Data obtained from ourworldindata.com"
   ]
  },
  {
   "cell_type": "code",
   "execution_count": 1,
   "metadata": {},
   "outputs": [],
   "source": [
    "import pandas as pd\n",
    "import numpy as np\n",
    "\n",
    "from bs4 import BeautifulSoup\n",
    "import requests"
   ]
  },
  {
   "cell_type": "code",
   "execution_count": 2,
   "metadata": {},
   "outputs": [],
   "source": [
    "age = pd.read_csv('../Data/ment_health.csv')"
   ]
  },
  {
   "cell_type": "code",
   "execution_count": 3,
   "metadata": {},
   "outputs": [
    {
     "data": {
      "text/html": [
       "<div>\n",
       "<style scoped>\n",
       "    .dataframe tbody tr th:only-of-type {\n",
       "        vertical-align: middle;\n",
       "    }\n",
       "\n",
       "    .dataframe tbody tr th {\n",
       "        vertical-align: top;\n",
       "    }\n",
       "\n",
       "    .dataframe thead th {\n",
       "        text-align: right;\n",
       "    }\n",
       "</style>\n",
       "<table border=\"1\" class=\"dataframe\">\n",
       "  <thead>\n",
       "    <tr style=\"text-align: right;\">\n",
       "      <th></th>\n",
       "      <th>Entity</th>\n",
       "      <th>Code</th>\n",
       "      <th>Year</th>\n",
       "      <th>Prevalence - Mental and substance use disorders - Sex: Both - Age: Age-standardized (Percent) (%)</th>\n",
       "    </tr>\n",
       "  </thead>\n",
       "  <tbody>\n",
       "    <tr>\n",
       "      <th>0</th>\n",
       "      <td>Afghanistan</td>\n",
       "      <td>AFG</td>\n",
       "      <td>1990</td>\n",
       "      <td>17.553463</td>\n",
       "    </tr>\n",
       "    <tr>\n",
       "      <th>1</th>\n",
       "      <td>Afghanistan</td>\n",
       "      <td>AFG</td>\n",
       "      <td>1991</td>\n",
       "      <td>17.837032</td>\n",
       "    </tr>\n",
       "    <tr>\n",
       "      <th>2</th>\n",
       "      <td>Afghanistan</td>\n",
       "      <td>AFG</td>\n",
       "      <td>1992</td>\n",
       "      <td>18.092542</td>\n",
       "    </tr>\n",
       "    <tr>\n",
       "      <th>3</th>\n",
       "      <td>Afghanistan</td>\n",
       "      <td>AFG</td>\n",
       "      <td>1993</td>\n",
       "      <td>18.294931</td>\n",
       "    </tr>\n",
       "    <tr>\n",
       "      <th>4</th>\n",
       "      <td>Afghanistan</td>\n",
       "      <td>AFG</td>\n",
       "      <td>1994</td>\n",
       "      <td>18.428908</td>\n",
       "    </tr>\n",
       "  </tbody>\n",
       "</table>\n",
       "</div>"
      ],
      "text/plain": [
       "        Entity Code  Year  \\\n",
       "0  Afghanistan  AFG  1990   \n",
       "1  Afghanistan  AFG  1991   \n",
       "2  Afghanistan  AFG  1992   \n",
       "3  Afghanistan  AFG  1993   \n",
       "4  Afghanistan  AFG  1994   \n",
       "\n",
       "   Prevalence - Mental and substance use disorders - Sex: Both - Age: Age-standardized (Percent) (%)  \n",
       "0                                          17.553463                                                  \n",
       "1                                          17.837032                                                  \n",
       "2                                          18.092542                                                  \n",
       "3                                          18.294931                                                  \n",
       "4                                          18.428908                                                  "
      ]
     },
     "execution_count": 3,
     "metadata": {},
     "output_type": "execute_result"
    }
   ],
   "source": [
    "age.head()"
   ]
  },
  {
   "cell_type": "code",
   "execution_count": 4,
   "metadata": {},
   "outputs": [
    {
     "data": {
      "text/plain": [
       "(231, 2)"
      ]
     },
     "execution_count": 4,
     "metadata": {},
     "output_type": "execute_result"
    }
   ],
   "source": [
    "age = age[age['Year']==2017]\n",
    "age=age.drop('Code', axis=1)\n",
    "age=age.drop('Year', axis=1)\n",
    "age.shape"
   ]
  },
  {
   "cell_type": "code",
   "execution_count": 5,
   "metadata": {},
   "outputs": [
    {
     "data": {
      "text/html": [
       "<div>\n",
       "<style scoped>\n",
       "    .dataframe tbody tr th:only-of-type {\n",
       "        vertical-align: middle;\n",
       "    }\n",
       "\n",
       "    .dataframe tbody tr th {\n",
       "        vertical-align: top;\n",
       "    }\n",
       "\n",
       "    .dataframe thead th {\n",
       "        text-align: right;\n",
       "    }\n",
       "</style>\n",
       "<table border=\"1\" class=\"dataframe\">\n",
       "  <thead>\n",
       "    <tr style=\"text-align: right;\">\n",
       "      <th></th>\n",
       "      <th>country</th>\n",
       "      <th>mental_h_disorders</th>\n",
       "    </tr>\n",
       "  </thead>\n",
       "  <tbody>\n",
       "    <tr>\n",
       "      <th>27</th>\n",
       "      <td>Afghanistan</td>\n",
       "      <td>16.830857</td>\n",
       "    </tr>\n",
       "    <tr>\n",
       "      <th>55</th>\n",
       "      <td>Albania</td>\n",
       "      <td>10.877118</td>\n",
       "    </tr>\n",
       "    <tr>\n",
       "      <th>83</th>\n",
       "      <td>Algeria</td>\n",
       "      <td>14.548015</td>\n",
       "    </tr>\n",
       "    <tr>\n",
       "      <th>111</th>\n",
       "      <td>American Samoa</td>\n",
       "      <td>10.868077</td>\n",
       "    </tr>\n",
       "    <tr>\n",
       "      <th>139</th>\n",
       "      <td>Andean Latin America</td>\n",
       "      <td>12.403460</td>\n",
       "    </tr>\n",
       "    <tr>\n",
       "      <th>167</th>\n",
       "      <td>Andorra</td>\n",
       "      <td>14.717904</td>\n",
       "    </tr>\n",
       "    <tr>\n",
       "      <th>195</th>\n",
       "      <td>Angola</td>\n",
       "      <td>12.398913</td>\n",
       "    </tr>\n",
       "    <tr>\n",
       "      <th>223</th>\n",
       "      <td>Antigua and Barbuda</td>\n",
       "      <td>13.238281</td>\n",
       "    </tr>\n",
       "    <tr>\n",
       "      <th>251</th>\n",
       "      <td>Argentina</td>\n",
       "      <td>15.738267</td>\n",
       "    </tr>\n",
       "    <tr>\n",
       "      <th>279</th>\n",
       "      <td>Armenia</td>\n",
       "      <td>10.697647</td>\n",
       "    </tr>\n",
       "    <tr>\n",
       "      <th>307</th>\n",
       "      <td>Australasia</td>\n",
       "      <td>18.434439</td>\n",
       "    </tr>\n",
       "    <tr>\n",
       "      <th>335</th>\n",
       "      <td>Australia</td>\n",
       "      <td>18.381283</td>\n",
       "    </tr>\n",
       "    <tr>\n",
       "      <th>363</th>\n",
       "      <td>Austria</td>\n",
       "      <td>14.362136</td>\n",
       "    </tr>\n",
       "    <tr>\n",
       "      <th>391</th>\n",
       "      <td>Azerbaijan</td>\n",
       "      <td>10.458851</td>\n",
       "    </tr>\n",
       "    <tr>\n",
       "      <th>419</th>\n",
       "      <td>Bahamas</td>\n",
       "      <td>13.354575</td>\n",
       "    </tr>\n",
       "    <tr>\n",
       "      <th>447</th>\n",
       "      <td>Bahrain</td>\n",
       "      <td>14.124171</td>\n",
       "    </tr>\n",
       "    <tr>\n",
       "      <th>475</th>\n",
       "      <td>Bangladesh</td>\n",
       "      <td>12.459680</td>\n",
       "    </tr>\n",
       "    <tr>\n",
       "      <th>503</th>\n",
       "      <td>Barbados</td>\n",
       "      <td>13.573647</td>\n",
       "    </tr>\n",
       "    <tr>\n",
       "      <th>531</th>\n",
       "      <td>Belarus</td>\n",
       "      <td>12.121969</td>\n",
       "    </tr>\n",
       "    <tr>\n",
       "      <th>559</th>\n",
       "      <td>Belgium</td>\n",
       "      <td>15.018094</td>\n",
       "    </tr>\n",
       "  </tbody>\n",
       "</table>\n",
       "</div>"
      ],
      "text/plain": [
       "                  country  mental_h_disorders\n",
       "27            Afghanistan           16.830857\n",
       "55                Albania           10.877118\n",
       "83                Algeria           14.548015\n",
       "111        American Samoa           10.868077\n",
       "139  Andean Latin America           12.403460\n",
       "167               Andorra           14.717904\n",
       "195                Angola           12.398913\n",
       "223   Antigua and Barbuda           13.238281\n",
       "251             Argentina           15.738267\n",
       "279               Armenia           10.697647\n",
       "307           Australasia           18.434439\n",
       "335             Australia           18.381283\n",
       "363               Austria           14.362136\n",
       "391            Azerbaijan           10.458851\n",
       "419               Bahamas           13.354575\n",
       "447               Bahrain           14.124171\n",
       "475            Bangladesh           12.459680\n",
       "503              Barbados           13.573647\n",
       "531               Belarus           12.121969\n",
       "559               Belgium           15.018094"
      ]
     },
     "execution_count": 5,
     "metadata": {},
     "output_type": "execute_result"
    }
   ],
   "source": [
    "age.columns=['country', 'mental_h_disorders']\n",
    "age.head(20)"
   ]
  },
  {
   "cell_type": "code",
   "execution_count": 6,
   "metadata": {},
   "outputs": [
    {
     "data": {
      "text/plain": [
       "country               0\n",
       "mental_h_disorders    0\n",
       "dtype: int64"
      ]
     },
     "execution_count": 6,
     "metadata": {},
     "output_type": "execute_result"
    }
   ],
   "source": [
    "age.isnull().sum()"
   ]
  },
  {
   "cell_type": "code",
   "execution_count": 7,
   "metadata": {},
   "outputs": [
    {
     "name": "stdout",
     "output_type": "stream",
     "text": [
      "<class 'pandas.core.frame.DataFrame'>\n",
      "Int64Index: 231 entries, 27 to 6467\n",
      "Data columns (total 2 columns):\n",
      "country               231 non-null object\n",
      "mental_h_disorders    231 non-null float64\n",
      "dtypes: float64(1), object(1)\n",
      "memory usage: 5.4+ KB\n"
     ]
    }
   ],
   "source": [
    "age.info()"
   ]
  },
  {
   "cell_type": "code",
   "execution_count": 8,
   "metadata": {},
   "outputs": [],
   "source": [
    "%store -r countries_dict\n",
    "age['country'] = age['country'].replace(countries_dict)"
   ]
  },
  {
   "cell_type": "code",
   "execution_count": 9,
   "metadata": {},
   "outputs": [
    {
     "data": {
      "text/plain": [
       "55                                               Albania\n",
       "111                                       American Samoa\n",
       "139                                 Andean Latin America\n",
       "307                                          Australasia\n",
       "643                                              Bermuda\n",
       "1035                                           Caribbean\n",
       "1091                                        Central Asia\n",
       "1119                                      Central Europe\n",
       "1147    Central Europe, Eastern Europe, and Central Asia\n",
       "1175                               Central Latin America\n",
       "1203                          Central Sub-Saharan Africa\n",
       "1651                                            Dominica\n",
       "1707                                           East Asia\n",
       "1735                                      Eastern Europe\n",
       "1763                          Eastern Sub-Saharan Africa\n",
       "1875                                             England\n",
       "2267                                           Greenland\n",
       "2323                                                Guam\n",
       "2491                                            High SDI\n",
       "2519                                         High-income\n",
       "2547                            High-income Asia Pacific\n",
       "2575                                     High-middle SDI\n",
       "3135                         Latin America and Caribbean\n",
       "3331                                             Low SDI\n",
       "3359                                      Low-middle SDI\n",
       "3723                                Micronesia (country)\n",
       "3751                                          Middle SDI\n",
       "4143                        North Africa and Middle East\n",
       "4171                                       North America\n",
       "4199                                         North Korea\n",
       "4227                                    Northern Ireland\n",
       "4255                            Northern Mariana Islands\n",
       "4311                                             Oceania\n",
       "4619                                         Puerto Rico\n",
       "4899                                            Scotland\n",
       "5291                                      Southeast Asia\n",
       "5319              Southeast Asia, East Asia, and Oceania\n",
       "5347                              Southern Latin America\n",
       "5375                         Southern Sub-Saharan Africa\n",
       "5543                                           Swaziland\n",
       "5655                                              Taiwan\n",
       "5767                                               Timor\n",
       "5879                              Tropical Latin America\n",
       "6131                        United States Virgin Islands\n",
       "6299                                               Wales\n",
       "6327                                      Western Europe\n",
       "6355                          Western Sub-Saharan Africa\n",
       "Name: country, dtype: object"
      ]
     },
     "execution_count": 9,
     "metadata": {},
     "output_type": "execute_result"
    }
   ],
   "source": [
    "%store -r countries\n",
    "#checkin for different versions of counties names\n",
    "age.country[~age.country.isin(countries)]"
   ]
  },
  {
   "cell_type": "code",
   "execution_count": 10,
   "metadata": {},
   "outputs": [],
   "source": [
    "#lets save/pickle our 'age' dataframe\n",
    "import pickle\n",
    "\n",
    "with open('../Data/Pickled/ment_prob.pkl', 'wb') as picklefile:\n",
    "    pickle.dump(age, picklefile)"
   ]
  },
  {
   "cell_type": "code",
   "execution_count": null,
   "metadata": {},
   "outputs": [],
   "source": []
  }
 ],
 "metadata": {
  "kernelspec": {
   "display_name": "Python [conda env:metis] *",
   "language": "python",
   "name": "conda-env-metis-py"
  },
  "language_info": {
   "codemirror_mode": {
    "name": "ipython",
    "version": 3
   },
   "file_extension": ".py",
   "mimetype": "text/x-python",
   "name": "python",
   "nbconvert_exporter": "python",
   "pygments_lexer": "ipython3",
   "version": "3.7.7"
  }
 },
 "nbformat": 4,
 "nbformat_minor": 4
}
