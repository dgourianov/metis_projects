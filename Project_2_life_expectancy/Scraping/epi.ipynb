{
 "cells": [
  {
   "cell_type": "markdown",
   "metadata": {},
   "source": [
    "## Environmental Performance Index data\n",
    "https://epi.envirocenter.yale.edu/epi-topline"
   ]
  },
  {
   "cell_type": "code",
   "execution_count": 12,
   "metadata": {},
   "outputs": [],
   "source": [
    "import pandas as pd\n",
    "import numpy as np\n",
    "\n",
    "from bs4 import BeautifulSoup\n",
    "import requests"
   ]
  },
  {
   "cell_type": "code",
   "execution_count": 13,
   "metadata": {},
   "outputs": [],
   "source": [
    "age = pd.read_csv('../Data/epi.csv.csv')"
   ]
  },
  {
   "cell_type": "code",
   "execution_count": 14,
   "metadata": {},
   "outputs": [
    {
     "data": {
      "text/html": [
       "<div>\n",
       "<style scoped>\n",
       "    .dataframe tbody tr th:only-of-type {\n",
       "        vertical-align: middle;\n",
       "    }\n",
       "\n",
       "    .dataframe tbody tr th {\n",
       "        vertical-align: top;\n",
       "    }\n",
       "\n",
       "    .dataframe thead th {\n",
       "        text-align: right;\n",
       "    }\n",
       "</style>\n",
       "<table border=\"1\" class=\"dataframe\">\n",
       "  <thead>\n",
       "    <tr style=\"text-align: right;\">\n",
       "      <th></th>\n",
       "      <th>code</th>\n",
       "      <th>iso</th>\n",
       "      <th>country</th>\n",
       "      <th>EPI.current</th>\n",
       "      <th>HLT.current</th>\n",
       "      <th>AIR.current</th>\n",
       "      <th>H2O.current</th>\n",
       "      <th>HMT.current</th>\n",
       "      <th>ECO.current</th>\n",
       "      <th>BDH.current</th>\n",
       "      <th>...</th>\n",
       "      <th>MTR.current</th>\n",
       "      <th>DCT.current</th>\n",
       "      <th>DPT.current</th>\n",
       "      <th>DMT.current</th>\n",
       "      <th>DNT.current</th>\n",
       "      <th>DBT.current</th>\n",
       "      <th>DST.current</th>\n",
       "      <th>DXT.current</th>\n",
       "      <th>WWT.current</th>\n",
       "      <th>SNM.current</th>\n",
       "    </tr>\n",
       "  </thead>\n",
       "  <tbody>\n",
       "    <tr>\n",
       "      <th>0</th>\n",
       "      <td>4</td>\n",
       "      <td>AFG</td>\n",
       "      <td>Afghanistan</td>\n",
       "      <td>37.74</td>\n",
       "      <td>36.76</td>\n",
       "      <td>44.67</td>\n",
       "      <td>25.75</td>\n",
       "      <td>0.00</td>\n",
       "      <td>38.40</td>\n",
       "      <td>13.44</td>\n",
       "      <td>...</td>\n",
       "      <td>NaN</td>\n",
       "      <td>23.47</td>\n",
       "      <td>NaN</td>\n",
       "      <td>53.62</td>\n",
       "      <td>50.10</td>\n",
       "      <td>67.66</td>\n",
       "      <td>82.88</td>\n",
       "      <td>100.00</td>\n",
       "      <td>0.00</td>\n",
       "      <td>44.77</td>\n",
       "    </tr>\n",
       "    <tr>\n",
       "      <th>1</th>\n",
       "      <td>8</td>\n",
       "      <td>ALB</td>\n",
       "      <td>Albania</td>\n",
       "      <td>65.46</td>\n",
       "      <td>65.67</td>\n",
       "      <td>65.47</td>\n",
       "      <td>66.56</td>\n",
       "      <td>62.89</td>\n",
       "      <td>65.32</td>\n",
       "      <td>75.37</td>\n",
       "      <td>...</td>\n",
       "      <td>61.77</td>\n",
       "      <td>53.77</td>\n",
       "      <td>100.00</td>\n",
       "      <td>73.30</td>\n",
       "      <td>63.65</td>\n",
       "      <td>72.61</td>\n",
       "      <td>83.25</td>\n",
       "      <td>88.90</td>\n",
       "      <td>80.73</td>\n",
       "      <td>22.61</td>\n",
       "    </tr>\n",
       "    <tr>\n",
       "      <th>2</th>\n",
       "      <td>12</td>\n",
       "      <td>DZA</td>\n",
       "      <td>Algeria</td>\n",
       "      <td>57.18</td>\n",
       "      <td>80.95</td>\n",
       "      <td>93.98</td>\n",
       "      <td>60.26</td>\n",
       "      <td>35.60</td>\n",
       "      <td>41.34</td>\n",
       "      <td>49.33</td>\n",
       "      <td>...</td>\n",
       "      <td>60.58</td>\n",
       "      <td>17.14</td>\n",
       "      <td>46.35</td>\n",
       "      <td>37.76</td>\n",
       "      <td>23.99</td>\n",
       "      <td>6.93</td>\n",
       "      <td>83.63</td>\n",
       "      <td>8.68</td>\n",
       "      <td>91.60</td>\n",
       "      <td>34.26</td>\n",
       "    </tr>\n",
       "    <tr>\n",
       "      <th>3</th>\n",
       "      <td>24</td>\n",
       "      <td>AGO</td>\n",
       "      <td>Angola</td>\n",
       "      <td>37.44</td>\n",
       "      <td>33.79</td>\n",
       "      <td>44.66</td>\n",
       "      <td>9.20</td>\n",
       "      <td>40.08</td>\n",
       "      <td>39.88</td>\n",
       "      <td>39.19</td>\n",
       "      <td>...</td>\n",
       "      <td>38.35</td>\n",
       "      <td>55.00</td>\n",
       "      <td>40.18</td>\n",
       "      <td>36.11</td>\n",
       "      <td>63.78</td>\n",
       "      <td>58.16</td>\n",
       "      <td>59.85</td>\n",
       "      <td>55.99</td>\n",
       "      <td>0.00</td>\n",
       "      <td>22.70</td>\n",
       "    </tr>\n",
       "    <tr>\n",
       "      <th>4</th>\n",
       "      <td>28</td>\n",
       "      <td>ATG</td>\n",
       "      <td>Antigua and Barbuda</td>\n",
       "      <td>59.18</td>\n",
       "      <td>76.53</td>\n",
       "      <td>89.13</td>\n",
       "      <td>53.33</td>\n",
       "      <td>52.04</td>\n",
       "      <td>47.61</td>\n",
       "      <td>88.49</td>\n",
       "      <td>...</td>\n",
       "      <td>59.13</td>\n",
       "      <td>0.00</td>\n",
       "      <td>NaN</td>\n",
       "      <td>22.94</td>\n",
       "      <td>85.88</td>\n",
       "      <td>47.50</td>\n",
       "      <td>46.86</td>\n",
       "      <td>47.03</td>\n",
       "      <td>64.44</td>\n",
       "      <td>7.26</td>\n",
       "    </tr>\n",
       "  </tbody>\n",
       "</table>\n",
       "<p>5 rows × 40 columns</p>\n",
       "</div>"
      ],
      "text/plain": [
       "   code  iso              country  EPI.current  HLT.current  AIR.current  \\\n",
       "0     4  AFG          Afghanistan        37.74        36.76        44.67   \n",
       "1     8  ALB              Albania        65.46        65.67        65.47   \n",
       "2    12  DZA              Algeria        57.18        80.95        93.98   \n",
       "3    24  AGO               Angola        37.44        33.79        44.66   \n",
       "4    28  ATG  Antigua and Barbuda        59.18        76.53        89.13   \n",
       "\n",
       "   H2O.current  HMT.current  ECO.current  BDH.current  ...  MTR.current  \\\n",
       "0        25.75         0.00        38.40        13.44  ...          NaN   \n",
       "1        66.56        62.89        65.32        75.37  ...        61.77   \n",
       "2        60.26        35.60        41.34        49.33  ...        60.58   \n",
       "3         9.20        40.08        39.88        39.19  ...        38.35   \n",
       "4        53.33        52.04        47.61        88.49  ...        59.13   \n",
       "\n",
       "   DCT.current  DPT.current  DMT.current  DNT.current  DBT.current  \\\n",
       "0        23.47          NaN        53.62        50.10        67.66   \n",
       "1        53.77       100.00        73.30        63.65        72.61   \n",
       "2        17.14        46.35        37.76        23.99         6.93   \n",
       "3        55.00        40.18        36.11        63.78        58.16   \n",
       "4         0.00          NaN        22.94        85.88        47.50   \n",
       "\n",
       "   DST.current  DXT.current  WWT.current  SNM.current  \n",
       "0        82.88       100.00         0.00        44.77  \n",
       "1        83.25        88.90        80.73        22.61  \n",
       "2        83.63         8.68        91.60        34.26  \n",
       "3        59.85        55.99         0.00        22.70  \n",
       "4        46.86        47.03        64.44         7.26  \n",
       "\n",
       "[5 rows x 40 columns]"
      ]
     },
     "execution_count": 14,
     "metadata": {},
     "output_type": "execute_result"
    }
   ],
   "source": [
    "age.head()"
   ]
  },
  {
   "cell_type": "code",
   "execution_count": 15,
   "metadata": {},
   "outputs": [
    {
     "data": {
      "text/html": [
       "<div>\n",
       "<style scoped>\n",
       "    .dataframe tbody tr th:only-of-type {\n",
       "        vertical-align: middle;\n",
       "    }\n",
       "\n",
       "    .dataframe tbody tr th {\n",
       "        vertical-align: top;\n",
       "    }\n",
       "\n",
       "    .dataframe thead th {\n",
       "        text-align: right;\n",
       "    }\n",
       "</style>\n",
       "<table border=\"1\" class=\"dataframe\">\n",
       "  <thead>\n",
       "    <tr style=\"text-align: right;\">\n",
       "      <th></th>\n",
       "      <th>country</th>\n",
       "      <th>EPI.current</th>\n",
       "    </tr>\n",
       "  </thead>\n",
       "  <tbody>\n",
       "    <tr>\n",
       "      <th>0</th>\n",
       "      <td>Afghanistan</td>\n",
       "      <td>37.74</td>\n",
       "    </tr>\n",
       "    <tr>\n",
       "      <th>1</th>\n",
       "      <td>Albania</td>\n",
       "      <td>65.46</td>\n",
       "    </tr>\n",
       "    <tr>\n",
       "      <th>2</th>\n",
       "      <td>Algeria</td>\n",
       "      <td>57.18</td>\n",
       "    </tr>\n",
       "    <tr>\n",
       "      <th>3</th>\n",
       "      <td>Angola</td>\n",
       "      <td>37.44</td>\n",
       "    </tr>\n",
       "    <tr>\n",
       "      <th>4</th>\n",
       "      <td>Antigua and Barbuda</td>\n",
       "      <td>59.18</td>\n",
       "    </tr>\n",
       "    <tr>\n",
       "      <th>...</th>\n",
       "      <td>...</td>\n",
       "      <td>...</td>\n",
       "    </tr>\n",
       "    <tr>\n",
       "      <th>175</th>\n",
       "      <td>Vanuatu</td>\n",
       "      <td>44.55</td>\n",
       "    </tr>\n",
       "    <tr>\n",
       "      <th>176</th>\n",
       "      <td>Venezuela</td>\n",
       "      <td>63.89</td>\n",
       "    </tr>\n",
       "    <tr>\n",
       "      <th>177</th>\n",
       "      <td>Viet Nam</td>\n",
       "      <td>46.96</td>\n",
       "    </tr>\n",
       "    <tr>\n",
       "      <th>178</th>\n",
       "      <td>Zambia</td>\n",
       "      <td>50.97</td>\n",
       "    </tr>\n",
       "    <tr>\n",
       "      <th>179</th>\n",
       "      <td>Zimbabwe</td>\n",
       "      <td>43.41</td>\n",
       "    </tr>\n",
       "  </tbody>\n",
       "</table>\n",
       "<p>180 rows × 2 columns</p>\n",
       "</div>"
      ],
      "text/plain": [
       "                 country  EPI.current\n",
       "0            Afghanistan        37.74\n",
       "1                Albania        65.46\n",
       "2                Algeria        57.18\n",
       "3                 Angola        37.44\n",
       "4    Antigua and Barbuda        59.18\n",
       "..                   ...          ...\n",
       "175              Vanuatu        44.55\n",
       "176            Venezuela        63.89\n",
       "177             Viet Nam        46.96\n",
       "178               Zambia        50.97\n",
       "179             Zimbabwe        43.41\n",
       "\n",
       "[180 rows x 2 columns]"
      ]
     },
     "execution_count": 15,
     "metadata": {},
     "output_type": "execute_result"
    }
   ],
   "source": [
    "age = age.iloc[:,2:4]\n",
    "age"
   ]
  },
  {
   "cell_type": "code",
   "execution_count": 16,
   "metadata": {},
   "outputs": [],
   "source": [
    "age.rename(columns={'EPI.current':'environment'}, inplace=True)"
   ]
  },
  {
   "cell_type": "code",
   "execution_count": 17,
   "metadata": {},
   "outputs": [
    {
     "data": {
      "text/plain": [
       "country        0\n",
       "environment    0\n",
       "dtype: int64"
      ]
     },
     "execution_count": 17,
     "metadata": {},
     "output_type": "execute_result"
    }
   ],
   "source": [
    "age.isnull().sum()"
   ]
  },
  {
   "cell_type": "code",
   "execution_count": 18,
   "metadata": {},
   "outputs": [
    {
     "name": "stdout",
     "output_type": "stream",
     "text": [
      "<class 'pandas.core.frame.DataFrame'>\n",
      "RangeIndex: 180 entries, 0 to 179\n",
      "Data columns (total 2 columns):\n",
      "country        180 non-null object\n",
      "environment    180 non-null float64\n",
      "dtypes: float64(1), object(1)\n",
      "memory usage: 2.9+ KB\n"
     ]
    }
   ],
   "source": [
    "age.info()"
   ]
  },
  {
   "cell_type": "code",
   "execution_count": 19,
   "metadata": {},
   "outputs": [],
   "source": [
    "%store -r countries_dict\n",
    "age['country'] = age['country'].replace(countries_dict)"
   ]
  },
  {
   "cell_type": "code",
   "execution_count": 20,
   "metadata": {},
   "outputs": [
    {
     "data": {
      "text/plain": [
       "1                       Albania\n",
       "38               CÃ´te d'Ivoire\n",
       "46                     Dominica\n",
       "138    SÃ£o TomÃ© and PrÃ­ncipe\n",
       "154                   Swaziland\n",
       "157                      Taiwan\n",
       "Name: country, dtype: object"
      ]
     },
     "execution_count": 20,
     "metadata": {},
     "output_type": "execute_result"
    }
   ],
   "source": [
    "%store -r countries\n",
    "#checking for different versions of counties names\n",
    "age.country[~age.country.isin(countries)]"
   ]
  },
  {
   "cell_type": "code",
   "execution_count": 21,
   "metadata": {},
   "outputs": [],
   "source": [
    "#lets save/pickle our 'age' dataframe\n",
    "import pickle\n",
    "\n",
    "with open('../Data/Pickled/epi.pkl', 'wb') as picklefile:\n",
    "    pickle.dump(age, picklefile)"
   ]
  },
  {
   "cell_type": "code",
   "execution_count": null,
   "metadata": {},
   "outputs": [],
   "source": []
  }
 ],
 "metadata": {
  "kernelspec": {
   "display_name": "Python [conda env:metis] *",
   "language": "python",
   "name": "conda-env-metis-py"
  },
  "language_info": {
   "codemirror_mode": {
    "name": "ipython",
    "version": 3
   },
   "file_extension": ".py",
   "mimetype": "text/x-python",
   "name": "python",
   "nbconvert_exporter": "python",
   "pygments_lexer": "ipython3",
   "version": "3.7.7"
  }
 },
 "nbformat": 4,
 "nbformat_minor": 4
}
