{
 "cells": [
  {
   "cell_type": "markdown",
   "metadata": {},
   "source": [
    "# Scraping debates and speeches\n",
    "Candidates: Warren, Buttigieg, Klobuchar, Biden, Sanders, Bloomberg"
   ]
  },
  {
   "cell_type": "code",
   "execution_count": 83,
   "metadata": {},
   "outputs": [],
   "source": [
    "#importing libraries\n",
    "import numpy as np\n",
    "import pandas as pd\n",
    "import requests\n",
    "from bs4 import BeautifulSoup\n",
    "import re\n",
    "from collections import defaultdict\n",
    "import csv "
   ]
  },
  {
   "cell_type": "code",
   "execution_count": 87,
   "metadata": {},
   "outputs": [],
   "source": [
    "# creating a dictionnary with each candidate as a key\n",
    "dic=defaultdict(list)\n",
    "candidates=['El', 'Pe', 'Am', 'Jo', 'Be', 'Mi' ]"
   ]
  },
  {
   "cell_type": "code",
   "execution_count": 88,
   "metadata": {},
   "outputs": [
    {
     "name": "stdout",
     "output_type": "stream",
     "text": [
      "Jo 40 <class 'list'>\n",
      "Be 40 <class 'list'>\n",
      "Am 29 <class 'list'>\n",
      "El 24 <class 'list'>\n",
      "Pe 30 <class 'list'>\n"
     ]
    }
   ],
   "source": [
    "# scraping New Hampshire debates\n",
    "url = 'https://www.rev.com/blog/transcripts/new-hampshire-democratic-debate-transcript'\n",
    "response = requests.get(url)\n",
    "page=response.text\n",
    "soup= BeautifulSoup(page, \"lxml\")\n",
    "p=soup.find_all('p')\n",
    "for i in p:\n",
    "    t=i.text\n",
    "    if t[:2] in candidates:     \n",
    "        dic[t[:2]].append(t)\n",
    "for k,v in dic.items():\n",
    "    print(k, len(dic[k]), type(v))"
   ]
  },
  {
   "cell_type": "code",
   "execution_count": 89,
   "metadata": {},
   "outputs": [
    {
     "data": {
      "text/html": [
       "<div>\n",
       "<style scoped>\n",
       "    .dataframe tbody tr th:only-of-type {\n",
       "        vertical-align: middle;\n",
       "    }\n",
       "\n",
       "    .dataframe tbody tr th {\n",
       "        vertical-align: top;\n",
       "    }\n",
       "\n",
       "    .dataframe thead th {\n",
       "        text-align: right;\n",
       "    }\n",
       "</style>\n",
       "<table border=\"1\" class=\"dataframe\">\n",
       "  <thead>\n",
       "    <tr style=\"text-align: right;\">\n",
       "      <th></th>\n",
       "      <th>Name</th>\n",
       "      <th>deb</th>\n",
       "    </tr>\n",
       "  </thead>\n",
       "  <tbody>\n",
       "    <tr>\n",
       "      <th>0</th>\n",
       "      <td>Jo</td>\n",
       "      <td>Joe Biden: (00:32) Oh, they didn’t miss anythi...</td>\n",
       "    </tr>\n",
       "    <tr>\n",
       "      <th>1</th>\n",
       "      <td>Jo</td>\n",
       "      <td>Joe Biden: (01:12) Well, you know that with re...</td>\n",
       "    </tr>\n",
       "    <tr>\n",
       "      <th>2</th>\n",
       "      <td>Jo</td>\n",
       "      <td>Joe Biden: (13:34) Look, Bernie says that you ...</td>\n",
       "    </tr>\n",
       "    <tr>\n",
       "      <th>3</th>\n",
       "      <td>Jo</td>\n",
       "      <td>Joe Biden: (14:28) I think that was on CBS. He...</td>\n",
       "    </tr>\n",
       "    <tr>\n",
       "      <th>4</th>\n",
       "      <td>Jo</td>\n",
       "      <td>Joe Biden: (16:07) 30 second-</td>\n",
       "    </tr>\n",
       "    <tr>\n",
       "      <th>...</th>\n",
       "      <td>...</td>\n",
       "      <td>...</td>\n",
       "    </tr>\n",
       "    <tr>\n",
       "      <th>158</th>\n",
       "      <td>Pe</td>\n",
       "      <td>Pete Buttigieg: (29:49) These things are all c...</td>\n",
       "    </tr>\n",
       "    <tr>\n",
       "      <th>159</th>\n",
       "      <td>Pe</td>\n",
       "      <td>Pete Buttigieg: (51:09) We are going into the ...</td>\n",
       "    </tr>\n",
       "    <tr>\n",
       "      <th>160</th>\n",
       "      <td>Pe</td>\n",
       "      <td>Pete Buttigieg: (51:49) We are here without th...</td>\n",
       "    </tr>\n",
       "    <tr>\n",
       "      <th>161</th>\n",
       "      <td>Pe</td>\n",
       "      <td>Pete Buttigieg: (01:08:27) The problem is, Ame...</td>\n",
       "    </tr>\n",
       "    <tr>\n",
       "      <th>162</th>\n",
       "      <td>Pe</td>\n",
       "      <td>Pete Buttigieg: (01:08:53) When I’m president,...</td>\n",
       "    </tr>\n",
       "  </tbody>\n",
       "</table>\n",
       "<p>163 rows × 2 columns</p>\n",
       "</div>"
      ],
      "text/plain": [
       "    Name                                                deb\n",
       "0     Jo  Joe Biden: (00:32) Oh, they didn’t miss anythi...\n",
       "1     Jo  Joe Biden: (01:12) Well, you know that with re...\n",
       "2     Jo  Joe Biden: (13:34) Look, Bernie says that you ...\n",
       "3     Jo  Joe Biden: (14:28) I think that was on CBS. He...\n",
       "4     Jo                      Joe Biden: (16:07) 30 second-\n",
       "..   ...                                                ...\n",
       "158   Pe  Pete Buttigieg: (29:49) These things are all c...\n",
       "159   Pe  Pete Buttigieg: (51:09) We are going into the ...\n",
       "160   Pe  Pete Buttigieg: (51:49) We are here without th...\n",
       "161   Pe  Pete Buttigieg: (01:08:27) The problem is, Ame...\n",
       "162   Pe  Pete Buttigieg: (01:08:53) When I’m president,...\n",
       "\n",
       "[163 rows x 2 columns]"
      ]
     },
     "execution_count": 89,
     "metadata": {},
     "output_type": "execute_result"
    }
   ],
   "source": [
    "a=pd.DataFrame.from_dict(dic, orient='index')\n",
    "b=a.stack().reset_index()\n",
    "b.columns=['Name', 'Par','deb']\n",
    "b.drop(['Par'],axis=1)"
   ]
  },
  {
   "cell_type": "code",
   "execution_count": 95,
   "metadata": {},
   "outputs": [
    {
     "name": "stdout",
     "output_type": "stream",
     "text": [
      "Jo 51 <class 'list'>\n",
      "Be 54 <class 'list'>\n",
      "Am 39 <class 'list'>\n",
      "El 39 <class 'list'>\n",
      "Pe 59 <class 'list'>\n"
     ]
    }
   ],
   "source": [
    "# scraping speeches at Iowa caucuses\n",
    "url = 'https://www.rev.com/blog/transcripts/transcript-speeches-at-the-iowa-caucuses-bernie-sanders-joe-biden-elizabeth-warren-andrew-yang-pete-buttigieg-amy-klobuchar-speak'\n",
    "response = requests.get(url)\n",
    "page=response.text\n",
    "soup= BeautifulSoup(page, \"lxml\")\n",
    "p=soup.find_all('p')\n",
    "candidates=['El', 'Pe', 'Am', 'Jo', 'Be' ,'Mi']\n",
    "\n",
    "for i in p:\n",
    "    t=i.text\n",
    "    if t[:2] in candidates:             \n",
    "        dic[t[:2]].append(t)       \n",
    "for k,v in dic.items():\n",
    "    print(k, len(dic[k]), type(v))"
   ]
  },
  {
   "cell_type": "code",
   "execution_count": 96,
   "metadata": {},
   "outputs": [
    {
     "name": "stdout",
     "output_type": "stream",
     "text": [
      "Jo 71 <class 'list'>\n",
      "Be 68 <class 'list'>\n",
      "Am 39 <class 'list'>\n",
      "El 68 <class 'list'>\n",
      "Pe 59 <class 'list'>\n",
      "Mi 23 <class 'list'>\n"
     ]
    }
   ],
   "source": [
    "# super Tuesday transcripts\n",
    "url = 'https://www.rev.com/blog/transcripts/super-tuesday-speech-transcripts-biden-sanders-warren-bloomberg-speeches-to-supporters'\n",
    "response = requests.get(url)\n",
    "page=response.text\n",
    "soup= BeautifulSoup(page, \"lxml\")\n",
    "p=soup.find_all('p')\n",
    "candidates=['El', 'Pe', 'Am', 'Jo', 'Be','Mi' ]\n",
    "\n",
    "for i in p:\n",
    "    t=i.text\n",
    "    if t[:2] in candidates:             \n",
    "        dic[t[:2]].append(t)\n",
    "       \n",
    "for k,v in dic.items():\n",
    "    print(k, len(dic[k]), type(v))"
   ]
  },
  {
   "cell_type": "code",
   "execution_count": 97,
   "metadata": {},
   "outputs": [
    {
     "name": "stdout",
     "output_type": "stream",
     "text": [
      "Jo 187 <class 'list'>\n",
      "Be 221 <class 'list'>\n",
      "Am 213 <class 'list'>\n",
      "El 239 <class 'list'>\n",
      "Pe 231 <class 'list'>\n",
      "Mi 110 <class 'list'>\n"
     ]
    }
   ],
   "source": [
    "pe= 'https://www.rev.com/blog/transcripts/transcript-pete-buttigieg-speaks-at-new-hampshire-rally-with-michael-j-fox'\n",
    "mi ='https://www.rev.com/blog/transcripts/mike-bloomberg-salt-lake-city-campaign-rally-speech-transcript'\n",
    "be='https://www.rev.com/blog/transcripts/bernie-sanders-columbia-south-carolina-rally-transcript'\n",
    "el='https://www.rev.com/blog/transcripts/elizabeth-warren-nevada-town-hall-campaign-transcript-february-17-2020'\n",
    "j14 ='https://www.rev.com/blog/transcripts/january-iowa-democratic-debate-transcript'\n",
    "f19= 'https://www.rev.com/blog/transcripts/democratic-debate-transcript-las-vegas-nevada-debate'\n",
    "d19='https://www.rev.com/blog/transcripts/december-democratic-debate-transcript-sixth-debate-from-los-angeles'\n",
    "\n",
    "import time\n",
    "\n",
    "candidates=['El', 'Pe', 'Am', 'Jo', 'Be','Mi' ,'E.']\n",
    "for w in [pe, mi,be,el,j14, f19, d19]:\n",
    "    response = requests.get(w)\n",
    "    page=response.text\n",
    "    soup= BeautifulSoup(page, \"lxml\")\n",
    "    p=soup.find_all('p')\n",
    "       \n",
    "    for i in p:\n",
    "        t=i.text\n",
    "        if t[:2] in candidates:             \n",
    "            dic[t[:2]].append(t)\n",
    "    time.sleep(2)\n",
    "dic['El'] =dic['El']  +dic['E.'] \n",
    "del dic['E.'] \n",
    "for k,v in dic.items():\n",
    "    print(k, len(dic[k]), type(v))"
   ]
  },
  {
   "cell_type": "code",
   "execution_count": 98,
   "metadata": {},
   "outputs": [
    {
     "data": {
      "text/plain": [
       "dict_keys(['WA', 'BU', 'KL', 'BI', 'SA', 'BL'])"
      ]
     },
     "execution_count": 98,
     "metadata": {},
     "output_type": "execute_result"
    }
   ],
   "source": [
    "dic_u=defaultdict(list)\n",
    "candidates=['El', 'Pe', 'Am', 'Jo', 'Be','Mi' ]\n",
    "candidates1=['WA','BU', 'KL', 'BI','SA', 'BL' ]\n",
    "for n,m in zip(candidates1,candidates):\n",
    "    dic_u[n] = dic[m]\n",
    "dic_u.keys()"
   ]
  },
  {
   "cell_type": "code",
   "execution_count": 99,
   "metadata": {},
   "outputs": [],
   "source": [
    "url = 'https://www.cbsnews.com/news/south-carolina-democratic-debate-full-transcript-text/'\n",
    "response = requests.get(url)\n",
    "page=response.text\n",
    "soup= BeautifulSoup(page, \"lxml\")\n",
    "br=soup.find_all('p')\n",
    "candidates=['BL', 'WA', 'SA', 'BU', 'BI', 'KL' ]\n",
    "hosts=['WH', 'GA','KI', 'ST', \"O'\",'BR']\n",
    "last='BR'\n",
    "\n",
    "for i in br:\n",
    "    t=i.text\n",
    "    if t[:2] in (candidates+hosts):             \n",
    "        dic_u[t[:2]].append(t)\n",
    "        last=t[:2]\n",
    "    else:\n",
    "        dic_u[last].append(t)     \n",
    "for key in hosts:\n",
    "    del dic_u[key]           "
   ]
  },
  {
   "cell_type": "code",
   "execution_count": 100,
   "metadata": {},
   "outputs": [
    {
     "name": "stdout",
     "output_type": "stream",
     "text": [
      "WA 344 <class 'list'>\n",
      "BU 347 <class 'list'>\n",
      "KL 300 <class 'list'>\n",
      "BI 304 <class 'list'>\n",
      "SA 346 <class 'list'>\n",
      "BL 203 <class 'list'>\n"
     ]
    }
   ],
   "source": [
    "for k,v in dic_u.items():\n",
    "    print(k, len(dic_u[k]), type(v))"
   ]
  },
  {
   "cell_type": "code",
   "execution_count": 102,
   "metadata": {},
   "outputs": [
    {
     "name": "stdout",
     "output_type": "stream",
     "text": [
      "WA 344 <class 'list'>\n",
      "BU 347 <class 'list'>\n",
      "KL 300 <class 'list'>\n",
      "BI 304 <class 'list'>\n",
      "SA 346 <class 'list'>\n",
      "BL 203 <class 'list'>\n"
     ]
    }
   ],
   "source": [
    "for k,v in dic_u.items():\n",
    "    print(k, len(dic_u[k]), type(v))"
   ]
  },
  {
   "cell_type": "code",
   "execution_count": 103,
   "metadata": {},
   "outputs": [],
   "source": [
    "import pickle\n",
    "with open('dic_7_t_par.pkl', 'wb') as picklefile:\n",
    "    pickle.dump(dic_u, picklefile)"
   ]
  }
 ],
 "metadata": {
  "kernelspec": {
   "display_name": "Python 3.7.7 64-bit ('metis': conda)",
   "language": "python",
   "name": "python37764bitmetiscondad1ef69055bed43faa781cf5fcb0a3256"
  },
  "language_info": {
   "codemirror_mode": {
    "name": "ipython",
    "version": 3
   },
   "file_extension": ".py",
   "mimetype": "text/x-python",
   "name": "python",
   "nbconvert_exporter": "python",
   "pygments_lexer": "ipython3",
   "version": "3.7.7"
  },
  "toc": {
   "base_numbering": 1,
   "nav_menu": {},
   "number_sections": true,
   "sideBar": true,
   "skip_h1_title": false,
   "title_cell": "Table of Contents",
   "title_sidebar": "Contents",
   "toc_cell": false,
   "toc_position": {},
   "toc_section_display": true,
   "toc_window_display": false
  }
 },
 "nbformat": 4,
 "nbformat_minor": 4
}
