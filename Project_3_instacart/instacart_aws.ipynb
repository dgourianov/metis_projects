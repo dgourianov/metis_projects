{
 "cells": [
  {
   "cell_type": "markdown",
   "metadata": {},
   "source": [
    "#  XGBoost model. Full dataset. AWS"
   ]
  },
  {
   "cell_type": "code",
   "execution_count": 4,
   "metadata": {},
   "outputs": [],
   "source": [
    "import pandas as pd\n",
    "import numpy as np\n",
    "import timeit\n",
    "from sklearn.model_selection import train_test_split\n",
    "from sklearn.linear_model import LogisticRegression\n",
    "import xgboost as xgb\n",
    "from collections import OrderedDict\n",
    "from sklearn.metrics import precision_score, recall_score, precision_recall_curve, f1_score, fbeta_score\n",
    "from sklearn.metrics import confusion_matrix, plot_confusion_matrix\n",
    "import seaborn as sns\n",
    "import matplotlib.pyplot as plt\n",
    "sns.set()"
   ]
  },
  {
   "cell_type": "code",
   "execution_count": 5,
   "metadata": {},
   "outputs": [],
   "source": [
    "all = pd.read_csv('merged1.csv')\n",
    "dept = pd.read_csv('mer_products.csv')"
   ]
  },
  {
   "cell_type": "code",
   "execution_count": 6,
   "metadata": {},
   "outputs": [
    {
     "data": {
      "text/plain": [
       "(131209,)"
      ]
     },
     "execution_count": 6,
     "metadata": {},
     "output_type": "execute_result"
    }
   ],
   "source": [
    "all.user_id[all.eval_set == 'train'].unique().shape"
   ]
  },
  {
   "cell_type": "code",
   "execution_count": 7,
   "metadata": {},
   "outputs": [
    {
     "data": {
      "text/plain": [
       "(206209,)"
      ]
     },
     "execution_count": 7,
     "metadata": {},
     "output_type": "execute_result"
    }
   ],
   "source": [
    "all.user_id[all.eval_set == 'prior'].unique().shape"
   ]
  },
  {
   "cell_type": "code",
   "execution_count": 8,
   "metadata": {},
   "outputs": [],
   "source": [
    "order_products_train = all[all.eval_set == 'train']\n",
    "order_products_prior = all[all.eval_set == 'prior']"
   ]
  },
  {
   "cell_type": "code",
   "execution_count": 9,
   "metadata": {},
   "outputs": [],
   "source": [
    "train_ids = order_products_train['user_id'].unique()\n",
    "order_products_prior = order_products_prior[order_products_prior['user_id'].isin(\n",
    "    train_ids)]"
   ]
  },
  {
   "cell_type": "code",
   "execution_count": 10,
   "metadata": {},
   "outputs": [],
   "source": [
    "dept1 = dept.copy()\n",
    "dept1 = dept1[['product_id', 'aisle_id', 'department_id']]\n",
    "order_products_prior = pd.merge(order_products_prior, dept1, on=['product_id'])"
   ]
  },
  {
   "cell_type": "code",
   "execution_count": 11,
   "metadata": {},
   "outputs": [
    {
     "name": "stdout",
     "output_type": "stream",
     "text": [
      "<class 'pandas.core.frame.DataFrame'>\n",
      "Int64Index: 1384617 entries, 0 to 33819105\n",
      "Data columns (total 10 columns):\n",
      " #   Column           Non-Null Count    Dtype  \n",
      "---  ------           --------------    -----  \n",
      " 0   order_id         1384617 non-null  int64  \n",
      " 1   product_id       1384617 non-null  int64  \n",
      " 2   add_cart_order   1384617 non-null  int64  \n",
      " 3   reordered        1384617 non-null  int64  \n",
      " 4   user_id          1384617 non-null  int64  \n",
      " 5   eval_set         1384617 non-null  object \n",
      " 6   order_number     1384617 non-null  int64  \n",
      " 7   order_dow        1384617 non-null  int64  \n",
      " 8   order_hour       1384617 non-null  int64  \n",
      " 9   days_last_order  1384617 non-null  float64\n",
      "dtypes: float64(1), int64(8), object(1)\n",
      "memory usage: 116.2+ MB\n"
     ]
    }
   ],
   "source": [
    "order_products_train.info()"
   ]
  },
  {
   "cell_type": "code",
   "execution_count": 12,
   "metadata": {},
   "outputs": [
    {
     "data": {
      "text/plain": [
       "order_id           131209\n",
       "product_id          39123\n",
       "add_cart_order         80\n",
       "reordered               2\n",
       "user_id            131209\n",
       "eval_set                1\n",
       "order_number           97\n",
       "order_dow               7\n",
       "order_hour             24\n",
       "days_last_order        31\n",
       "dtype: int64"
      ]
     },
     "execution_count": 12,
     "metadata": {},
     "output_type": "execute_result"
    }
   ],
   "source": [
    "order_products_train.nunique()"
   ]
  },
  {
   "cell_type": "code",
   "execution_count": 13,
   "metadata": {},
   "outputs": [
    {
     "name": "stdout",
     "output_type": "stream",
     "text": [
      "<class 'pandas.core.frame.DataFrame'>\n",
      "Int64Index: 20641991 entries, 0 to 20641990\n",
      "Data columns (total 12 columns):\n",
      " #   Column           Dtype  \n",
      "---  ------           -----  \n",
      " 0   order_id         int64  \n",
      " 1   product_id       int64  \n",
      " 2   add_cart_order   int64  \n",
      " 3   reordered        int64  \n",
      " 4   user_id          int64  \n",
      " 5   eval_set         object \n",
      " 6   order_number     int64  \n",
      " 7   order_dow        int64  \n",
      " 8   order_hour       int64  \n",
      " 9   days_last_order  float64\n",
      " 10  aisle_id         int64  \n",
      " 11  department_id    int64  \n",
      "dtypes: float64(1), int64(10), object(1)\n",
      "memory usage: 2.0+ GB\n"
     ]
    }
   ],
   "source": [
    "order_products_prior.info()"
   ]
  },
  {
   "cell_type": "code",
   "execution_count": 14,
   "metadata": {},
   "outputs": [],
   "source": [
    "# imputing null values in the first order\n",
    "order_products_prior.fillna(order_products_prior.days_last_order.mean(), inplace=True)"
   ]
  },
  {
   "cell_type": "code",
   "execution_count": 15,
   "metadata": {},
   "outputs": [
    {
     "data": {
      "text/plain": [
       "order_id           0\n",
       "product_id         0\n",
       "add_cart_order     0\n",
       "reordered          0\n",
       "user_id            0\n",
       "eval_set           0\n",
       "order_number       0\n",
       "order_dow          0\n",
       "order_hour         0\n",
       "days_last_order    0\n",
       "aisle_id           0\n",
       "department_id      0\n",
       "dtype: int64"
      ]
     },
     "execution_count": 15,
     "metadata": {},
     "output_type": "execute_result"
    }
   ],
   "source": [
    "order_products_prior.isna().sum()"
   ]
  },
  {
   "cell_type": "code",
   "execution_count": 16,
   "metadata": {},
   "outputs": [],
   "source": [
    "insta = order_products_prior[['product_id', 'user_id']].drop_duplicates()"
   ]
  },
  {
   "cell_type": "code",
   "execution_count": 17,
   "metadata": {},
   "outputs": [
    {
     "data": {
      "text/plain": [
       "(8474661, 2)"
      ]
     },
     "execution_count": 17,
     "metadata": {},
     "output_type": "execute_result"
    }
   ],
   "source": [
    "insta.shape"
   ]
  },
  {
   "cell_type": "code",
   "execution_count": 18,
   "metadata": {},
   "outputs": [
    {
     "data": {
      "text/plain": [
       "(131209,)"
      ]
     },
     "execution_count": 18,
     "metadata": {},
     "output_type": "execute_result"
    }
   ],
   "source": [
    "insta.user_id.unique().shape"
   ]
  },
  {
   "cell_type": "code",
   "execution_count": 19,
   "metadata": {},
   "outputs": [
    {
     "name": "stdout",
     "output_type": "stream",
     "text": [
      "         product_id  user_id  \\\n",
      "4400236       21195    81206   \n",
      "\n",
      "                                               latest_cart  in_cart  \n",
      "4400236  {42562, 27238, 33095, 45066, 22667, 32684, 267...        0  \n",
      "(8474661, 4)\n"
     ]
    }
   ],
   "source": [
    "# converting into binary classification problem\n",
    "train_carts = (order_products_train.groupby('user_id', as_index=False)\n",
    "                                   .agg({'product_id': (lambda x: set(x))})\n",
    "                                   .rename(columns={'product_id': 'latest_cart'}))\n",
    "\n",
    "insta = insta.merge(train_carts, on='user_id')\n",
    "insta['in_cart'] = (insta.apply(lambda row: row['product_id']\n",
    "                                in row['latest_cart'], axis=1).astype(int))\n",
    "print(insta.sample(1))\n",
    "print(insta.shape)"
   ]
  },
  {
   "cell_type": "code",
   "execution_count": 20,
   "metadata": {},
   "outputs": [],
   "source": [
    "def get_user_split_data(df, test_size=.20, seed=42):\n",
    "\n",
    "    rs = np.random.RandomState(seed)\n",
    "\n",
    "    total_users = df['user_id'].unique()\n",
    "    test_users = rs.choice(total_users,\n",
    "                           size=int(total_users.shape[0] * test_size),\n",
    "                           replace=False)\n",
    "    df_te = df[df['user_id'].isin(test_users)]\n",
    "\n",
    "    df_val_tr = df[~df['user_id'].isin(test_users)]\n",
    "\n",
    "    val_tr_users = df_val_tr['user_id'].unique()\n",
    "\n",
    "    val_users = (rs.choice(val_tr_users,\n",
    "                           size=int(val_tr_users.shape[0] * test_size),\n",
    "                           replace=False))\n",
    "\n",
    "    df_tr = df_val_tr[~df_val_tr['user_id'].isin(val_users)]\n",
    "\n",
    "    df_val = df_val_tr[df_val_tr['user_id'].isin(val_users)]\n",
    "\n",
    "    y_tr, y_te, y_val = df_tr['in_cart'], df_te['in_cart'], df_val['in_cart']\n",
    "    X_tr = df_tr.drop(\n",
    "        ['product_id', 'user_id', 'latest_cart', 'in_cart'], axis=1)\n",
    "    X_te = df_te.drop(\n",
    "        ['product_id', 'user_id', 'latest_cart', 'in_cart'], axis=1)\n",
    "    X_val = df_val.drop(\n",
    "        ['product_id', 'user_id', 'latest_cart', 'in_cart'], axis=1)\n",
    "    return X_tr, X_te, X_val, y_tr, y_te, y_val"
   ]
  },
  {
   "cell_type": "markdown",
   "metadata": {},
   "source": [
    "# Feature Engineering"
   ]
  },
  {
   "cell_type": "markdown",
   "metadata": {},
   "source": [
    "## Product / Department / Aisle features"
   ]
  },
  {
   "cell_type": "code",
   "execution_count": 21,
   "metadata": {},
   "outputs": [
    {
     "data": {
      "text/html": [
       "<div>\n",
       "<style scoped>\n",
       "    .dataframe tbody tr th:only-of-type {\n",
       "        vertical-align: middle;\n",
       "    }\n",
       "\n",
       "    .dataframe tbody tr th {\n",
       "        vertical-align: top;\n",
       "    }\n",
       "\n",
       "    .dataframe thead th {\n",
       "        text-align: right;\n",
       "    }\n",
       "</style>\n",
       "<table border=\"1\" class=\"dataframe\">\n",
       "  <thead>\n",
       "    <tr style=\"text-align: right;\">\n",
       "      <th></th>\n",
       "      <th>product_id</th>\n",
       "      <th>p_total_orders</th>\n",
       "      <th>p_avg_add_cart_order</th>\n",
       "    </tr>\n",
       "  </thead>\n",
       "  <tbody>\n",
       "    <tr>\n",
       "      <th>26161</th>\n",
       "      <td>26263</td>\n",
       "      <td>3</td>\n",
       "      <td>3.0</td>\n",
       "    </tr>\n",
       "  </tbody>\n",
       "</table>\n",
       "</div>"
      ],
      "text/plain": [
       "       product_id  p_total_orders  p_avg_add_cart_order\n",
       "26161       26263               3                   3.0"
      ]
     },
     "execution_count": 21,
     "metadata": {},
     "output_type": "execute_result"
    }
   ],
   "source": [
    "p_features_names = ['p_total_orders', 'p_avg_add_cart_order']\n",
    "\n",
    "p_features = (order_products_prior.groupby(['product_id'], as_index=False)\n",
    "              .agg(OrderedDict(\n",
    "                  [('order_id', 'nunique'),\n",
    "                   ('add_cart_order', 'mean')])))\n",
    "p_features.columns = ['product_id'] + p_features_names\n",
    "p_features.sample(1)"
   ]
  },
  {
   "cell_type": "code",
   "execution_count": 22,
   "metadata": {},
   "outputs": [
    {
     "data": {
      "text/plain": [
       "(49468, 3)"
      ]
     },
     "execution_count": 22,
     "metadata": {},
     "output_type": "execute_result"
    }
   ],
   "source": [
    "p_features.shape"
   ]
  },
  {
   "cell_type": "code",
   "execution_count": 23,
   "metadata": {},
   "outputs": [
    {
     "data": {
      "text/html": [
       "<div>\n",
       "<style scoped>\n",
       "    .dataframe tbody tr th:only-of-type {\n",
       "        vertical-align: middle;\n",
       "    }\n",
       "\n",
       "    .dataframe tbody tr th {\n",
       "        vertical-align: top;\n",
       "    }\n",
       "\n",
       "    .dataframe thead th {\n",
       "        text-align: right;\n",
       "    }\n",
       "</style>\n",
       "<table border=\"1\" class=\"dataframe\">\n",
       "  <thead>\n",
       "    <tr style=\"text-align: right;\">\n",
       "      <th></th>\n",
       "      <th>product_id</th>\n",
       "      <th>p_total_orders</th>\n",
       "      <th>p_avg_add_cart_order</th>\n",
       "      <th>p_order_dow</th>\n",
       "    </tr>\n",
       "  </thead>\n",
       "  <tbody>\n",
       "    <tr>\n",
       "      <th>15974</th>\n",
       "      <td>16037</td>\n",
       "      <td>3</td>\n",
       "      <td>12.0</td>\n",
       "      <td>3.0</td>\n",
       "    </tr>\n",
       "  </tbody>\n",
       "</table>\n",
       "</div>"
      ],
      "text/plain": [
       "       product_id  p_total_orders  p_avg_add_cart_order  p_order_dow\n",
       "15974       16037               3                  12.0          3.0"
      ]
     },
     "execution_count": 23,
     "metadata": {},
     "output_type": "execute_result"
    }
   ],
   "source": [
    "# product average day of week ordered\n",
    "p_dow = order_products_prior.groupby(\n",
    "    ['product_id'])[['order_dow']].mean().reset_index()\n",
    "p_dow.columns = ['product_id', 'p_order_dow']\n",
    "p_features = pd.merge(p_features, p_dow, on=['product_id'], how='left')\n",
    "p_features.sample(1)"
   ]
  },
  {
   "cell_type": "code",
   "execution_count": 24,
   "metadata": {},
   "outputs": [
    {
     "data": {
      "text/plain": [
       "(49468, 4)"
      ]
     },
     "execution_count": 24,
     "metadata": {},
     "output_type": "execute_result"
    }
   ],
   "source": [
    "p_features.shape"
   ]
  },
  {
   "cell_type": "code",
   "execution_count": 25,
   "metadata": {},
   "outputs": [
    {
     "data": {
      "text/html": [
       "<div>\n",
       "<style scoped>\n",
       "    .dataframe tbody tr th:only-of-type {\n",
       "        vertical-align: middle;\n",
       "    }\n",
       "\n",
       "    .dataframe tbody tr th {\n",
       "        vertical-align: top;\n",
       "    }\n",
       "\n",
       "    .dataframe thead th {\n",
       "        text-align: right;\n",
       "    }\n",
       "</style>\n",
       "<table border=\"1\" class=\"dataframe\">\n",
       "  <thead>\n",
       "    <tr style=\"text-align: right;\">\n",
       "      <th></th>\n",
       "      <th>product_id</th>\n",
       "      <th>p_total_orders</th>\n",
       "      <th>p_avg_add_cart_order</th>\n",
       "      <th>p_order_dow</th>\n",
       "      <th>p_order_hour</th>\n",
       "    </tr>\n",
       "  </thead>\n",
       "  <tbody>\n",
       "    <tr>\n",
       "      <th>0</th>\n",
       "      <td>1</td>\n",
       "      <td>1202</td>\n",
       "      <td>5.647255</td>\n",
       "      <td>2.782030</td>\n",
       "      <td>13.104825</td>\n",
       "    </tr>\n",
       "    <tr>\n",
       "      <th>1</th>\n",
       "      <td>2</td>\n",
       "      <td>60</td>\n",
       "      <td>10.766667</td>\n",
       "      <td>3.116667</td>\n",
       "      <td>13.016667</td>\n",
       "    </tr>\n",
       "    <tr>\n",
       "      <th>2</th>\n",
       "      <td>3</td>\n",
       "      <td>193</td>\n",
       "      <td>6.378238</td>\n",
       "      <td>2.611399</td>\n",
       "      <td>12.321244</td>\n",
       "    </tr>\n",
       "    <tr>\n",
       "      <th>3</th>\n",
       "      <td>4</td>\n",
       "      <td>218</td>\n",
       "      <td>9.788991</td>\n",
       "      <td>2.619266</td>\n",
       "      <td>13.591743</td>\n",
       "    </tr>\n",
       "    <tr>\n",
       "      <th>4</th>\n",
       "      <td>5</td>\n",
       "      <td>12</td>\n",
       "      <td>5.416667</td>\n",
       "      <td>2.916667</td>\n",
       "      <td>11.166667</td>\n",
       "    </tr>\n",
       "  </tbody>\n",
       "</table>\n",
       "</div>"
      ],
      "text/plain": [
       "   product_id  p_total_orders  p_avg_add_cart_order  p_order_dow  p_order_hour\n",
       "0           1            1202              5.647255     2.782030     13.104825\n",
       "1           2              60             10.766667     3.116667     13.016667\n",
       "2           3             193              6.378238     2.611399     12.321244\n",
       "3           4             218              9.788991     2.619266     13.591743\n",
       "4           5              12              5.416667     2.916667     11.166667"
      ]
     },
     "execution_count": 25,
     "metadata": {},
     "output_type": "execute_result"
    }
   ],
   "source": [
    "# product average hour ordered\n",
    "p_hour = order_products_prior.groupby(\n",
    "    ['product_id'])[['order_hour']].mean().reset_index()\n",
    "p_hour.columns = ['product_id', 'p_order_hour']\n",
    "p_features = pd.merge(p_features, p_hour, on=['product_id'], how='left')\n",
    "p_features.head()"
   ]
  },
  {
   "cell_type": "code",
   "execution_count": 26,
   "metadata": {},
   "outputs": [],
   "source": [
    "# product reorder rate\n",
    "reordered = order_products_prior.groupby(\n",
    "    ['product_id'])[['reordered']].sum().reset_index()\n",
    "reordered.columns = ['product_id', 'reorder_sum']\n",
    "p_features = pd.merge(p_features, reordered, on=['product_id'], how='left')\n",
    "p_features['p_reorder_rate'] = p_features.reorder_sum/p_features.p_total_orders"
   ]
  },
  {
   "cell_type": "code",
   "execution_count": 27,
   "metadata": {},
   "outputs": [
    {
     "data": {
      "text/plain": [
       "(49468, 7)"
      ]
     },
     "execution_count": 27,
     "metadata": {},
     "output_type": "execute_result"
    }
   ],
   "source": [
    "p_features.shape"
   ]
  },
  {
   "cell_type": "code",
   "execution_count": 28,
   "metadata": {},
   "outputs": [],
   "source": [
    "# aisle reorder rate\n",
    "opp_a = order_products_prior[['product_id', 'aisle_id']].drop_duplicates()\n",
    "opp_a.sample(1)\n",
    "p_features = pd.merge(p_features, opp_a, how='left', on=['product_id'])\n",
    "reordered_a = order_products_prior.groupby(\n",
    "    ['aisle_id'])[['reordered']].mean().reset_index()\n",
    "reordered_a.columns = ['aisle_id', 'a_reorder_rate']\n",
    "p_features = pd.merge(p_features, reordered_a, how='left', on='aisle_id')\n",
    "p_features.drop(['aisle_id'], axis=1, inplace=True)"
   ]
  },
  {
   "cell_type": "code",
   "execution_count": 29,
   "metadata": {},
   "outputs": [
    {
     "name": "stdout",
     "output_type": "stream",
     "text": [
      "(21, 2)\n"
     ]
    }
   ],
   "source": [
    "# department reorder rate\n",
    "opp_d = order_products_prior[['product_id', 'department_id']].drop_duplicates()\n",
    "opp_d.sample(1)\n",
    "p_features = pd.merge(p_features, opp_d, how='left', on=['product_id'])\n",
    "reordered_d = order_products_prior.groupby(\n",
    "    ['department_id'])[['reordered']].mean().reset_index()\n",
    "reordered_d.columns = ['department_id', 'd_reorder_rate']\n",
    "print(reordered_d.shape)\n",
    "p_features = pd.merge(p_features, reordered_d, how='left', on='department_id')\n",
    "p_features.drop(['department_id'], axis=1, inplace=True)"
   ]
  },
  {
   "cell_type": "code",
   "execution_count": 30,
   "metadata": {},
   "outputs": [
    {
     "data": {
      "text/plain": [
       "(49468, 9)"
      ]
     },
     "execution_count": 30,
     "metadata": {},
     "output_type": "execute_result"
    }
   ],
   "source": [
    "p_features.shape"
   ]
  },
  {
   "cell_type": "code",
   "execution_count": 31,
   "metadata": {},
   "outputs": [
    {
     "name": "stdout",
     "output_type": "stream",
     "text": [
      "         product_id  user_id     latest_cart  in_cart  p_total_orders  \\\n",
      "8369172       13453    46992  {45113, 14233}        0              64   \n",
      "\n",
      "         p_avg_add_cart_order  p_order_dow  p_order_hour  reorder_sum  \\\n",
      "8369172                8.6875     3.234375     13.671875           13   \n",
      "\n",
      "         p_reorder_rate  a_reorder_rate  d_reorder_rate  \n",
      "8369172        0.203125        0.305992         0.34608  \n"
     ]
    }
   ],
   "source": [
    "insta = insta.merge(p_features, on='product_id')\n",
    "print(insta.sample(1))"
   ]
  },
  {
   "cell_type": "markdown",
   "metadata": {},
   "source": [
    "## User features"
   ]
  },
  {
   "cell_type": "code",
   "execution_count": 32,
   "metadata": {
    "scrolled": true
   },
   "outputs": [
    {
     "name": "stdout",
     "output_type": "stream",
     "text": [
      "        user_id  u_total_orders  u_avg_cartsize  u_total_products  \\\n",
      "121804   191341              11            14.0                71   \n",
      "\n",
      "        u_avg_days_since_prior_order  \n",
      "121804                     16.405695  \n",
      "(131209, 5)\n"
     ]
    }
   ],
   "source": [
    "u_features_names = ['u_total_orders', 'u_avg_cartsize',\n",
    "                    'u_total_products', 'u_avg_days_since_prior_order']\n",
    "\n",
    "u_features = (order_products_prior.groupby(['user_id'], as_index=False)\n",
    "              .agg(OrderedDict(\n",
    "                  [('order_id', ['nunique', (lambda x: x.shape[0] / x.nunique())]),\n",
    "                   ('product_id', 'nunique'),\n",
    "                   ('days_last_order', 'mean')])))\n",
    "\n",
    "u_features.columns = ['user_id'] + u_features_names\n",
    "print(u_features.sample(1))\n",
    "print(u_features.shape)"
   ]
  },
  {
   "cell_type": "code",
   "execution_count": 33,
   "metadata": {},
   "outputs": [
    {
     "name": "stderr",
     "output_type": "stream",
     "text": [
      "/home/ubuntu/anaconda3/lib/python3.7/site-packages/ipykernel_launcher.py:4: SettingWithCopyWarning: \n",
      "A value is trying to be set on a copy of a slice from a DataFrame\n",
      "\n",
      "See the caveats in the documentation: https://pandas.pydata.org/pandas-docs/stable/user_guide/indexing.html#returning-a-view-versus-a-copy\n",
      "  after removing the cwd from sys.path.\n"
     ]
    }
   ],
   "source": [
    "# user's TRAIN order - dow and hour info\n",
    "u_train_dow_hour = order_products_train[['user_id', 'order_dow', 'order_hour']]\n",
    "\n",
    "u_train_dow_hour.drop_duplicates(inplace=True)\n",
    "\n",
    "u_train_dow_hour.columns = ['user_id', 'u_train_order_dow', 'u_train_hour']\n",
    "\n",
    "u_features = pd.merge(u_features, u_train_dow_hour, on='user_id', how='left')"
   ]
  },
  {
   "cell_type": "code",
   "execution_count": 34,
   "metadata": {},
   "outputs": [],
   "source": [
    "insta = insta.merge(u_features, on='user_id', how='left')"
   ]
  },
  {
   "cell_type": "markdown",
   "metadata": {},
   "source": [
    "## User-Product/Department features"
   ]
  },
  {
   "cell_type": "code",
   "execution_count": 35,
   "metadata": {},
   "outputs": [
    {
     "data": {
      "text/html": [
       "<div>\n",
       "<style scoped>\n",
       "    .dataframe tbody tr th:only-of-type {\n",
       "        vertical-align: middle;\n",
       "    }\n",
       "\n",
       "    .dataframe tbody tr th {\n",
       "        vertical-align: top;\n",
       "    }\n",
       "\n",
       "    .dataframe thead th {\n",
       "        text-align: right;\n",
       "    }\n",
       "</style>\n",
       "<table border=\"1\" class=\"dataframe\">\n",
       "  <thead>\n",
       "    <tr style=\"text-align: right;\">\n",
       "      <th></th>\n",
       "      <th>product_id</th>\n",
       "      <th>user_id</th>\n",
       "      <th>u_p_total_orders</th>\n",
       "    </tr>\n",
       "  </thead>\n",
       "  <tbody>\n",
       "    <tr>\n",
       "      <th>6032302</th>\n",
       "      <td>35898</td>\n",
       "      <td>184065</td>\n",
       "      <td>3</td>\n",
       "    </tr>\n",
       "  </tbody>\n",
       "</table>\n",
       "</div>"
      ],
      "text/plain": [
       "         product_id  user_id  u_p_total_orders\n",
       "6032302       35898   184065                 3"
      ]
     },
     "execution_count": 35,
     "metadata": {},
     "output_type": "execute_result"
    }
   ],
   "source": [
    "#u_p total orders\n",
    "u_p_features = (order_products_prior.groupby(['product_id', 'user_id'], as_index=False)\n",
    "                .agg({'order_id': 'count'})\n",
    "                .rename(columns={'order_id': 'u_p_total_orders'}))\n",
    "u_p_features.sample(1)"
   ]
  },
  {
   "cell_type": "code",
   "execution_count": 36,
   "metadata": {
    "scrolled": true
   },
   "outputs": [
    {
     "data": {
      "text/html": [
       "<div>\n",
       "<style scoped>\n",
       "    .dataframe tbody tr th:only-of-type {\n",
       "        vertical-align: middle;\n",
       "    }\n",
       "\n",
       "    .dataframe tbody tr th {\n",
       "        vertical-align: top;\n",
       "    }\n",
       "\n",
       "    .dataframe thead th {\n",
       "        text-align: right;\n",
       "    }\n",
       "</style>\n",
       "<table border=\"1\" class=\"dataframe\">\n",
       "  <thead>\n",
       "    <tr style=\"text-align: right;\">\n",
       "      <th></th>\n",
       "      <th>order_id</th>\n",
       "      <th>product_id</th>\n",
       "      <th>add_cart_order</th>\n",
       "      <th>reordered</th>\n",
       "      <th>user_id</th>\n",
       "      <th>eval_set</th>\n",
       "      <th>order_number</th>\n",
       "      <th>order_dow</th>\n",
       "      <th>order_hour</th>\n",
       "      <th>days_last_order</th>\n",
       "      <th>aisle_id</th>\n",
       "      <th>department_id</th>\n",
       "    </tr>\n",
       "  </thead>\n",
       "  <tbody>\n",
       "    <tr>\n",
       "      <th>3797533</th>\n",
       "      <td>2063857</td>\n",
       "      <td>5876</td>\n",
       "      <td>7</td>\n",
       "      <td>1</td>\n",
       "      <td>206053</td>\n",
       "      <td>prior</td>\n",
       "      <td>44</td>\n",
       "      <td>5</td>\n",
       "      <td>14</td>\n",
       "      <td>3.0</td>\n",
       "      <td>24</td>\n",
       "      <td>4</td>\n",
       "    </tr>\n",
       "    <tr>\n",
       "      <th>16628141</th>\n",
       "      <td>897689</td>\n",
       "      <td>30839</td>\n",
       "      <td>9</td>\n",
       "      <td>0</td>\n",
       "      <td>8886</td>\n",
       "      <td>prior</td>\n",
       "      <td>3</td>\n",
       "      <td>6</td>\n",
       "      <td>11</td>\n",
       "      <td>30.0</td>\n",
       "      <td>129</td>\n",
       "      <td>1</td>\n",
       "    </tr>\n",
       "  </tbody>\n",
       "</table>\n",
       "</div>"
      ],
      "text/plain": [
       "          order_id  product_id  add_cart_order  reordered  user_id eval_set  \\\n",
       "3797533    2063857        5876               7          1   206053    prior   \n",
       "16628141    897689       30839               9          0     8886    prior   \n",
       "\n",
       "          order_number  order_dow  order_hour  days_last_order  aisle_id  \\\n",
       "3797533             44          5          14              3.0        24   \n",
       "16628141             3          6          11             30.0       129   \n",
       "\n",
       "          department_id  \n",
       "3797533               4  \n",
       "16628141              1  "
      ]
     },
     "execution_count": 36,
     "metadata": {},
     "output_type": "execute_result"
    }
   ],
   "source": [
    "#u_p add cart order\n",
    "u_p_features['u_p_avg_add_to_cart_order'] = (order_products_prior.groupby(['product_id', 'user_id'], as_index=False)\n",
    "                                             .agg(OrderedDict(\n",
    "                                                 [('add_cart_order', 'mean')]))['add_cart_order'])\n",
    "order_products_prior.sample(2)"
   ]
  },
  {
   "cell_type": "code",
   "execution_count": 37,
   "metadata": {},
   "outputs": [
    {
     "data": {
      "text/html": [
       "<div>\n",
       "<style scoped>\n",
       "    .dataframe tbody tr th:only-of-type {\n",
       "        vertical-align: middle;\n",
       "    }\n",
       "\n",
       "    .dataframe tbody tr th {\n",
       "        vertical-align: top;\n",
       "    }\n",
       "\n",
       "    .dataframe thead th {\n",
       "        text-align: right;\n",
       "    }\n",
       "</style>\n",
       "<table border=\"1\" class=\"dataframe\">\n",
       "  <thead>\n",
       "    <tr style=\"text-align: right;\">\n",
       "      <th></th>\n",
       "      <th>product_id</th>\n",
       "      <th>user_id</th>\n",
       "      <th>u_p_total_orders</th>\n",
       "      <th>u_p_avg_add_to_cart_order</th>\n",
       "      <th>u_p_num_ordered</th>\n",
       "      <th>user_total_orders</th>\n",
       "      <th>u_p_order_rate</th>\n",
       "    </tr>\n",
       "  </thead>\n",
       "  <tbody>\n",
       "    <tr>\n",
       "      <th>0</th>\n",
       "      <td>1</td>\n",
       "      <td>138</td>\n",
       "      <td>2</td>\n",
       "      <td>3.0</td>\n",
       "      <td>2</td>\n",
       "      <td>32</td>\n",
       "      <td>0.0625</td>\n",
       "    </tr>\n",
       "    <tr>\n",
       "      <th>1</th>\n",
       "      <td>1</td>\n",
       "      <td>709</td>\n",
       "      <td>1</td>\n",
       "      <td>20.0</td>\n",
       "      <td>1</td>\n",
       "      <td>5</td>\n",
       "      <td>0.2000</td>\n",
       "    </tr>\n",
       "  </tbody>\n",
       "</table>\n",
       "</div>"
      ],
      "text/plain": [
       "   product_id  user_id  u_p_total_orders  u_p_avg_add_to_cart_order  \\\n",
       "0           1      138                 2                        3.0   \n",
       "1           1      709                 1                       20.0   \n",
       "\n",
       "   u_p_num_ordered  user_total_orders  u_p_order_rate  \n",
       "0                2                 32          0.0625  \n",
       "1                1                  5          0.2000  "
      ]
     },
     "execution_count": 37,
     "metadata": {},
     "output_type": "execute_result"
    }
   ],
   "source": [
    "# u_p order rate\n",
    "u_p_num_ordered = order_products_prior.groupby(['user_id', 'product_id'], as_index=False)[\n",
    "    ['order_id']].count()\n",
    "u_p_num_ordered.columns = ['user_id', 'product_id', 'u_p_num_ordered']\n",
    "u_p_features = pd.merge(u_p_features, u_p_num_ordered, on=[\n",
    "                        'user_id', 'product_id'], how='left')\n",
    "tot_orders = order_products_prior.groupby(\n",
    "    'user_id', as_index=False)[['order_number']].max()\n",
    "tot_orders.columns = ['user_id', 'user_total_orders']\n",
    "u_p_features = pd.merge(u_p_features, tot_orders, on='user_id', how='left')\n",
    "u_p_features['u_p_order_rate'] = u_p_features['u_p_num_ordered'] / \\\n",
    "    u_p_features['user_total_orders']\n",
    "u_p_features.head(2)"
   ]
  },
  {
   "cell_type": "code",
   "execution_count": 38,
   "metadata": {},
   "outputs": [],
   "source": [
    "# user dept order rate\n",
    "\n",
    "u_d_num_ordered = order_products_prior.groupby(['user_id', 'department_id'], as_index=False)[\n",
    "    ['order_id']].count()\n",
    "u_d_num_ordered.columns = ['user_id', 'department_id', 'u_d_num_ordered']\n",
    "u_d_num_ordered = pd.merge(u_d_num_ordered, tot_orders, on='user_id')\n",
    "u_d_num_ordered['u_d_order_rate'] = u_d_num_ordered.u_d_num_ordered / \\\n",
    "    u_d_num_ordered.user_total_orders\n",
    "u_d_order_rate = u_d_num_ordered.drop(\n",
    "    ['u_d_num_ordered', 'user_total_orders'], axis=1)\n",
    "opp_u_d = order_products_prior[[\n",
    "    'user_id', 'product_id', 'department_id']].drop_duplicates()"
   ]
  },
  {
   "cell_type": "code",
   "execution_count": 39,
   "metadata": {},
   "outputs": [
    {
     "data": {
      "text/html": [
       "<div>\n",
       "<style scoped>\n",
       "    .dataframe tbody tr th:only-of-type {\n",
       "        vertical-align: middle;\n",
       "    }\n",
       "\n",
       "    .dataframe tbody tr th {\n",
       "        vertical-align: top;\n",
       "    }\n",
       "\n",
       "    .dataframe thead th {\n",
       "        text-align: right;\n",
       "    }\n",
       "</style>\n",
       "<table border=\"1\" class=\"dataframe\">\n",
       "  <thead>\n",
       "    <tr style=\"text-align: right;\">\n",
       "      <th></th>\n",
       "      <th>user_id</th>\n",
       "      <th>product_id</th>\n",
       "      <th>department_id</th>\n",
       "      <th>u_d_order_rate</th>\n",
       "    </tr>\n",
       "  </thead>\n",
       "  <tbody>\n",
       "    <tr>\n",
       "      <th>7561026</th>\n",
       "      <td>159549</td>\n",
       "      <td>1200</td>\n",
       "      <td>15</td>\n",
       "      <td>0.232323</td>\n",
       "    </tr>\n",
       "  </tbody>\n",
       "</table>\n",
       "</div>"
      ],
      "text/plain": [
       "         user_id  product_id  department_id  u_d_order_rate\n",
       "7561026   159549        1200             15        0.232323"
      ]
     },
     "execution_count": 39,
     "metadata": {},
     "output_type": "execute_result"
    }
   ],
   "source": [
    "u_d_features = pd.merge(opp_u_d, u_d_order_rate, on=[\n",
    "                        'user_id', 'department_id'])\n",
    "u_d_features.sample(1)"
   ]
  },
  {
   "cell_type": "code",
   "execution_count": 40,
   "metadata": {},
   "outputs": [],
   "source": [
    "# last order number and number of orders since last purchase\n",
    "last_order = order_products_prior.groupby(['user_id', 'product_id'], as_index=False)[\n",
    "    ['order_number']].max()\n",
    "last_order.columns = ['user_id', 'product_id', 'u_p_last_order_number']\n",
    "u_p_features = pd.merge(u_p_features, last_order, on=[\n",
    "                        'user_id', 'product_id'], how='left')\n",
    "u_p_features['u_p_orders_since_last_purch'] = u_p_features['user_total_orders'] - \\\n",
    "    u_p_features['u_p_last_order_number']\n",
    "u_p_features['u_p_in_last_order'] = (\n",
    "    u_p_features['u_p_orders_since_last_purch'] == 1).astype(int)"
   ]
  },
  {
   "cell_type": "code",
   "execution_count": 41,
   "metadata": {},
   "outputs": [
    {
     "data": {
      "text/html": [
       "<div>\n",
       "<style scoped>\n",
       "    .dataframe tbody tr th:only-of-type {\n",
       "        vertical-align: middle;\n",
       "    }\n",
       "\n",
       "    .dataframe tbody tr th {\n",
       "        vertical-align: top;\n",
       "    }\n",
       "\n",
       "    .dataframe thead th {\n",
       "        text-align: right;\n",
       "    }\n",
       "</style>\n",
       "<table border=\"1\" class=\"dataframe\">\n",
       "  <thead>\n",
       "    <tr style=\"text-align: right;\">\n",
       "      <th></th>\n",
       "      <th>product_id</th>\n",
       "      <th>user_id</th>\n",
       "      <th>u_p_total_orders</th>\n",
       "      <th>u_p_avg_add_to_cart_order</th>\n",
       "      <th>u_p_num_ordered</th>\n",
       "      <th>user_total_orders</th>\n",
       "      <th>u_p_order_rate</th>\n",
       "      <th>u_p_last_order_number</th>\n",
       "      <th>u_p_orders_since_last_purch</th>\n",
       "      <th>u_p_in_last_order</th>\n",
       "      <th>u_p_order_dow</th>\n",
       "    </tr>\n",
       "  </thead>\n",
       "  <tbody>\n",
       "    <tr>\n",
       "      <th>3767919</th>\n",
       "      <td>22952</td>\n",
       "      <td>5639</td>\n",
       "      <td>2</td>\n",
       "      <td>5.5</td>\n",
       "      <td>2</td>\n",
       "      <td>62</td>\n",
       "      <td>0.032258</td>\n",
       "      <td>22</td>\n",
       "      <td>40</td>\n",
       "      <td>0</td>\n",
       "      <td>1.5</td>\n",
       "    </tr>\n",
       "  </tbody>\n",
       "</table>\n",
       "</div>"
      ],
      "text/plain": [
       "         product_id  user_id  u_p_total_orders  u_p_avg_add_to_cart_order  \\\n",
       "3767919       22952     5639                 2                        5.5   \n",
       "\n",
       "         u_p_num_ordered  user_total_orders  u_p_order_rate  \\\n",
       "3767919                2                 62        0.032258   \n",
       "\n",
       "         u_p_last_order_number  u_p_orders_since_last_purch  \\\n",
       "3767919                     22                           40   \n",
       "\n",
       "         u_p_in_last_order  u_p_order_dow  \n",
       "3767919                  0            1.5  "
      ]
     },
     "execution_count": 41,
     "metadata": {},
     "output_type": "execute_result"
    }
   ],
   "source": [
    "# u_p average day of week ordered\n",
    "u_p_dow = order_products_prior.groupby(['product_id', 'user_id'], as_index=False)[\n",
    "    ['order_dow']].mean()\n",
    "u_p_dow.columns = ['product_id', 'user_id', 'u_p_order_dow']\n",
    "u_p_features = pd.merge(u_p_features, u_p_dow, on=[\n",
    "                        'product_id', 'user_id'], how='left')\n",
    "u_p_features.sample(1)"
   ]
  },
  {
   "cell_type": "code",
   "execution_count": 42,
   "metadata": {},
   "outputs": [
    {
     "data": {
      "text/html": [
       "<div>\n",
       "<style scoped>\n",
       "    .dataframe tbody tr th:only-of-type {\n",
       "        vertical-align: middle;\n",
       "    }\n",
       "\n",
       "    .dataframe tbody tr th {\n",
       "        vertical-align: top;\n",
       "    }\n",
       "\n",
       "    .dataframe thead th {\n",
       "        text-align: right;\n",
       "    }\n",
       "</style>\n",
       "<table border=\"1\" class=\"dataframe\">\n",
       "  <thead>\n",
       "    <tr style=\"text-align: right;\">\n",
       "      <th></th>\n",
       "      <th>product_id</th>\n",
       "      <th>user_id</th>\n",
       "      <th>u_p_total_orders</th>\n",
       "      <th>u_p_avg_add_to_cart_order</th>\n",
       "      <th>u_p_num_ordered</th>\n",
       "      <th>user_total_orders</th>\n",
       "      <th>u_p_order_rate</th>\n",
       "      <th>u_p_last_order_number</th>\n",
       "      <th>u_p_orders_since_last_purch</th>\n",
       "      <th>u_p_in_last_order</th>\n",
       "      <th>u_p_order_dow</th>\n",
       "      <th>u_p_order_hour</th>\n",
       "    </tr>\n",
       "  </thead>\n",
       "  <tbody>\n",
       "    <tr>\n",
       "      <th>3640148</th>\n",
       "      <td>22218</td>\n",
       "      <td>5377</td>\n",
       "      <td>10</td>\n",
       "      <td>7.1</td>\n",
       "      <td>10</td>\n",
       "      <td>81</td>\n",
       "      <td>0.123457</td>\n",
       "      <td>78</td>\n",
       "      <td>3</td>\n",
       "      <td>0</td>\n",
       "      <td>3.9</td>\n",
       "      <td>13.7</td>\n",
       "    </tr>\n",
       "  </tbody>\n",
       "</table>\n",
       "</div>"
      ],
      "text/plain": [
       "         product_id  user_id  u_p_total_orders  u_p_avg_add_to_cart_order  \\\n",
       "3640148       22218     5377                10                        7.1   \n",
       "\n",
       "         u_p_num_ordered  user_total_orders  u_p_order_rate  \\\n",
       "3640148               10                 81        0.123457   \n",
       "\n",
       "         u_p_last_order_number  u_p_orders_since_last_purch  \\\n",
       "3640148                     78                            3   \n",
       "\n",
       "         u_p_in_last_order  u_p_order_dow  u_p_order_hour  \n",
       "3640148                  0            3.9            13.7  "
      ]
     },
     "execution_count": 42,
     "metadata": {},
     "output_type": "execute_result"
    }
   ],
   "source": [
    "u_p_hour = order_products_prior.groupby(['product_id', 'user_id'], as_index=False)[\n",
    "    ['order_hour']].mean()\n",
    "u_p_hour.columns = ['product_id', 'user_id', 'u_p_order_hour']\n",
    "u_p_features = pd.merge(u_p_features, u_p_hour, on=[\n",
    "                        'product_id', 'user_id'], how='left')\n",
    "u_p_features.sample(1)"
   ]
  },
  {
   "cell_type": "code",
   "execution_count": 43,
   "metadata": {},
   "outputs": [],
   "source": [
    "# merging u_p_features with insta\n",
    "insta = insta.merge(u_p_features, on=['user_id', 'product_id'])\n",
    "insta = insta.merge(u_d_features, on=['user_id', 'product_id'])\n",
    "\n",
    "#insta['u_p_order_freq'] = insta['u_p_total_orders'] / insta['user_total_orders']\n",
    "insta['u_p_delta_hour'] = insta.u_p_order_hour - insta.u_train_hour\n",
    "insta['u_p_delta_dow'] = insta.u_p_order_dow - insta.u_train_order_dow\n",
    "insta['p_delta_hour'] = insta.p_order_hour - insta.u_train_hour\n",
    "insta['p_delta_dow'] = insta.p_order_dow - insta.u_train_order_dow\n",
    "\n",
    "insta.drop(['u_p_order_hour', 'p_order_hour', 'u_p_order_dow', 'p_order_dow', 'u_train_hour',\n",
    "            'u_train_order_dow', 'reorder_sum',  'user_total_orders','u_p_num_ordered', \n",
    "            'u_p_last_order_number','department_id'], axis=1, inplace=True)\n"
   ]
  },
  {
   "cell_type": "code",
   "execution_count": 44,
   "metadata": {},
   "outputs": [
    {
     "data": {
      "text/plain": [
       "(8474661, 23)"
      ]
     },
     "execution_count": 44,
     "metadata": {},
     "output_type": "execute_result"
    }
   ],
   "source": [
    "insta.shape"
   ]
  },
  {
   "cell_type": "code",
   "execution_count": 45,
   "metadata": {},
   "outputs": [
    {
     "name": "stdout",
     "output_type": "stream",
     "text": [
      "Index(['product_id', 'user_id', 'latest_cart', 'in_cart', 'p_total_orders',\n",
      "       'p_avg_add_cart_order', 'p_reorder_rate', 'a_reorder_rate',\n",
      "       'd_reorder_rate', 'u_total_orders', 'u_avg_cartsize',\n",
      "       'u_total_products', 'u_avg_days_since_prior_order', 'u_p_total_orders',\n",
      "       'u_p_avg_add_to_cart_order', 'u_p_order_rate',\n",
      "       'u_p_orders_since_last_purch', 'u_p_in_last_order', 'u_d_order_rate',\n",
      "       'u_p_delta_hour', 'u_p_delta_dow', 'p_delta_hour', 'p_delta_dow'],\n",
      "      dtype='object') \n",
      " 23\n"
     ]
    }
   ],
   "source": [
    "print(insta.columns, '\\n', len(insta.columns))"
   ]
  },
  {
   "cell_type": "markdown",
   "metadata": {},
   "source": [
    "# Modeling"
   ]
  },
  {
   "cell_type": "code",
   "execution_count": 46,
   "metadata": {},
   "outputs": [],
   "source": [
    "# splitting the data into test, val, train subsets function\n",
    "def get_user_split_data(df, test_size=.20, seed=42):\n",
    "\n",
    "    rs = np.random.RandomState(seed)\n",
    "\n",
    "    total_users = df['user_id'].unique()\n",
    "    test_users = rs.choice(total_users,\n",
    "                           size=int(total_users.shape[0] * test_size),\n",
    "                           replace=False)\n",
    "    df_te = df[df['user_id'].isin(test_users)]\n",
    "    df_val_tr = df[~df['user_id'].isin(test_users)]\n",
    "    val_tr_users = df_val_tr['user_id'].unique()\n",
    "    val_users = (rs.choice(val_tr_users,\n",
    "                           size=int(val_tr_users.shape[0] * test_size),\n",
    "                           replace=False))\n",
    "\n",
    "    df_tr = df_val_tr[~df_val_tr['user_id'].isin(val_users)]\n",
    "    df_val = df_val_tr[df_val_tr['user_id'].isin(val_users)]\n",
    "    y_tr, y_te, y_val = df_tr['in_cart'], df_te['in_cart'], df_val['in_cart']\n",
    "    X_tr = df_tr.drop(\n",
    "        ['product_id', 'user_id', 'latest_cart', 'in_cart'], axis=1)\n",
    "    X_te = df_te.drop(\n",
    "        ['product_id', 'user_id', 'latest_cart', 'in_cart'], axis=1)\n",
    "    X_val = df_val.drop(\n",
    "        ['product_id', 'user_id', 'latest_cart', 'in_cart'], axis=1)\n",
    "    return X_tr, X_te, X_val, y_tr, y_te, y_val"
   ]
  },
  {
   "cell_type": "code",
   "execution_count": 47,
   "metadata": {},
   "outputs": [],
   "source": [
    "# splitting the data\n",
    "X_tr, X_te, X_val, y_tr, y_te, y_val = get_user_split_data(insta)"
   ]
  },
  {
   "cell_type": "markdown",
   "metadata": {},
   "source": [
    "## Model= All prev ordered products"
   ]
  },
  {
   "cell_type": "code",
   "execution_count": 48,
   "metadata": {},
   "outputs": [
    {
     "name": "stdout",
     "output_type": "stream",
     "text": [
      "All prev purchases model:\n",
      "f1 score =  0.17827198629773594\n",
      "precision =  0.09785872806305321\n",
      "recall =  1.0\n"
     ]
    }
   ],
   "source": [
    "y_1 = np.ones(len(y_te))\n",
    "print('All prev purchases model:')\n",
    "print('f1 score = ', f1_score(y_te, y_1))\n",
    "print('precision = ', precision_score(y_te,y_1))\n",
    "print('recall = ', recall_score(y_te, y_1))"
   ]
  },
  {
   "cell_type": "markdown",
   "metadata": {},
   "source": [
    "## Model = Last cart"
   ]
  },
  {
   "cell_type": "code",
   "execution_count": 49,
   "metadata": {},
   "outputs": [
    {
     "name": "stdout",
     "output_type": "stream",
     "text": [
      "Last cart model:\n",
      "f1 score =  0.17503321010696568\n",
      "precision score =  0.16244890815307478\n",
      "recall=  0.18973094844431085\n"
     ]
    }
   ],
   "source": [
    "insta2 = X_te.copy()\n",
    "y_last = X_te.u_p_in_last_order\n",
    "print('Last cart model:')\n",
    "print('f1 score = ', f1_score(y_te, y_last))\n",
    "print('precision score = ', precision_score( y_te, y_last))\n",
    "print('recall= ', recall_score(y_te, y_last))"
   ]
  },
  {
   "cell_type": "markdown",
   "metadata": {},
   "source": [
    "## Logistic Regression"
   ]
  },
  {
   "cell_type": "code",
   "execution_count": 50,
   "metadata": {
    "scrolled": true
   },
   "outputs": [
    {
     "name": "stdout",
     "output_type": "stream",
     "text": [
      "f1 score =  0.40005863035742684\n",
      "The time difference is : 82.67523299999993\n"
     ]
    }
   ],
   "source": [
    "starttime = timeit.default_timer()\n",
    "\n",
    "lr = LogisticRegression(C=1, class_weight={1: 5, 0: 1}, max_iter=300)\n",
    "lr.fit(X_tr, y_tr)\n",
    "score = f1_score(y_val, lr.predict(X_val))\n",
    "print('f1 score = ', score)\n",
    "print(\"The time difference is :\", timeit.default_timer() - starttime)"
   ]
  },
  {
   "cell_type": "code",
   "execution_count": 51,
   "metadata": {},
   "outputs": [
    {
     "name": "stdout",
     "output_type": "stream",
     "text": [
      "Precision Score = 0.3393130154632358\n"
     ]
    }
   ],
   "source": [
    "print('Precision Score =', precision_score(y_val, lr.predict(X_val)))"
   ]
  },
  {
   "cell_type": "code",
   "execution_count": 52,
   "metadata": {},
   "outputs": [
    {
     "name": "stdout",
     "output_type": "stream",
     "text": [
      "Recall Score = 0.48729714945602626\n"
     ]
    }
   ],
   "source": [
    "print('Recall Score =', recall_score(y_val, lr.predict(X_val)))"
   ]
  },
  {
   "cell_type": "markdown",
   "metadata": {},
   "source": [
    "## XGBoost"
   ]
  },
  {
   "cell_type": "code",
   "execution_count": 53,
   "metadata": {},
   "outputs": [],
   "source": [
    "xgb = xgb.XGBClassifier(\n",
    "    n_estimators=500,\n",
    "    max_depth=8,\n",
    "    objective=\"binary:logistic\",\n",
    "    learning_rate=.1,\n",
    "    subsample=1,\n",
    "    min_child_weight=0.8,\n",
    "    colsample_bytree=.8,\n",
    "    scale_pos_weight=3.8\n",
    ")"
   ]
  },
  {
   "cell_type": "code",
   "execution_count": 54,
   "metadata": {},
   "outputs": [
    {
     "name": "stdout",
     "output_type": "stream",
     "text": [
      "[17:31:02] WARNING: /home/conda/feedstock_root/build_artifacts/xgboost_1588600955503/work/src/gbm/gbtree.cc:138: Tree method is automatically selected to be 'approx' for faster speed. To use old behavior (exact greedy algorithm on single machine), set tree_method to 'exact'.\n",
      "The time difference is : 886.3181311579997\n"
     ]
    }
   ],
   "source": [
    "starttime = timeit.default_timer()\n",
    "eval_set = [(X_tr, y_tr), (X_val, y_val)]  # tracking train error as we go\n",
    "xgb.fit(\n",
    "    X_tr, y_tr,\n",
    "    eval_set=eval_set,\n",
    "    eval_metric='aucpr',\n",
    "    early_stopping_rounds=20,\n",
    "    verbose=False\n",
    ")\n",
    "\n",
    "print(\"The time difference is :\", timeit.default_timer() - starttime)"
   ]
  },
  {
   "cell_type": "code",
   "execution_count": 55,
   "metadata": {},
   "outputs": [
    {
     "data": {
      "text/plain": [
       "163"
      ]
     },
     "execution_count": 55,
     "metadata": {},
     "output_type": "execute_result"
    }
   ],
   "source": [
    "xgb.best_ntree_limit"
   ]
  },
  {
   "cell_type": "code",
   "execution_count": 56,
   "metadata": {},
   "outputs": [
    {
     "data": {
      "text/plain": [
       "0.43384152127430764"
      ]
     },
     "execution_count": 56,
     "metadata": {},
     "output_type": "execute_result"
    }
   ],
   "source": [
    "f1_score(y_te,xgb.predict(X_te, ntree_limit=xgb.best_ntree_limit))"
   ]
  },
  {
   "cell_type": "code",
   "execution_count": 57,
   "metadata": {},
   "outputs": [
    {
     "data": {
      "text/plain": [
       "0.515412595821434"
      ]
     },
     "execution_count": 57,
     "metadata": {},
     "output_type": "execute_result"
    }
   ],
   "source": [
    "recall_score(y_te,xgb.predict(X_te, ntree_limit=xgb.best_ntree_limit))"
   ]
  },
  {
   "cell_type": "code",
   "execution_count": 58,
   "metadata": {},
   "outputs": [
    {
     "data": {
      "text/plain": [
       "0.3745619784156945"
      ]
     },
     "execution_count": 58,
     "metadata": {},
     "output_type": "execute_result"
    }
   ],
   "source": [
    "precision_score(y_te, xgb.predict(X_te, ntree_limit=xgb.best_ntree_limit))"
   ]
  },
  {
   "cell_type": "code",
   "execution_count": 59,
   "metadata": {},
   "outputs": [
    {
     "name": "stdout",
     "output_type": "stream",
     "text": [
      "XGBClassifier confusion matrix: \n",
      "\n",
      " [[1390175  143144]\n",
      " [  80599   85726]]\n"
     ]
    }
   ],
   "source": [
    "print(\"XGBClassifier confusion matrix: \\n\\n\", confusion_matrix(y_te, xgb.predict(X_te, ntree_limit=xgb.best_ntree_limit)))"
   ]
  },
  {
   "cell_type": "code",
   "execution_count": 62,
   "metadata": {},
   "outputs": [
    {
     "data": {
      "image/png": "[encoded data removed]",
      "text/plain": [
       "<Figure size 1152x576 with 2 Axes>"
      ]
     },
     "metadata": {},
     "output_type": "display_data"
    }
   ],
   "source": [
    "# Print confusion matrix for xgb\n",
    "xgb_confusion = confusion_matrix(y_te, xgb.predict(X_te, ntree_limit=xgb.best_ntree_limit))\n",
    "\n",
    "plt.figure(figsize=(16,8))\n",
    "ax=sns.heatmap(xgb_confusion, cmap=plt.cm.Blues, annot=True, square=True, fmt='d', annot_kws={\"size\": 20})\n",
    "plt.xlabel('Predicted \"in cart\" products', fontsize=20)\n",
    "plt.ylabel('Actual \"in cart\" products', fontsize=20)\n",
    "plt.title('XGBClassifier confusion matrix', fontsize=30);"
   ]
  },
  {
   "cell_type": "markdown",
   "metadata": {},
   "source": [
    "## Feature importance"
   ]
  },
  {
   "cell_type": "code",
   "execution_count": 61,
   "metadata": {},
   "outputs": [
    {
     "name": "stdout",
     "output_type": "stream",
     "text": [
      "('u_p_orders_since_last_purch', 0.39366215) \n",
      "\n",
      "('u_p_total_orders', 0.26071844) \n",
      "\n",
      "('u_p_order_rate', 0.17531893) \n",
      "\n",
      "('p_reorder_rate', 0.036736142) \n",
      "\n",
      "('u_p_in_last_order', 0.025503324) \n",
      "\n",
      "('u_total_orders', 0.014206914) \n",
      "\n",
      "('u_total_products', 0.0128417825) \n",
      "\n",
      "('p_total_orders', 0.011072572) \n",
      "\n",
      "('a_reorder_rate', 0.010418799) \n",
      "\n",
      "('d_reorder_rate', 0.009356504) \n",
      "\n",
      "('u_avg_cartsize', 0.008923023) \n",
      "\n",
      "('u_avg_days_since_prior_order', 0.0072776284) \n",
      "\n",
      "('p_avg_add_cart_order', 0.0062697674) \n",
      "\n",
      "('u_d_order_rate', 0.005457306) \n",
      "\n",
      "('u_p_delta_dow', 0.0053222957) \n",
      "\n",
      "('u_p_delta_hour', 0.0044553108) \n",
      "\n",
      "('u_p_avg_add_to_cart_order', 0.004291707) \n",
      "\n",
      "('p_delta_dow', 0.0041780877) \n",
      "\n",
      "('p_delta_hour', 0.0039892937) \n",
      "\n"
     ]
    },
    {
     "data": {
      "text/plain": [
       "([0, 1, 2, 3, 4, 5, 6, 7], <a list of 8 Text yticklabel objects>)"
      ]
     },
     "execution_count": 61,
     "metadata": {},
     "output_type": "execute_result"
    },
    {
     "data": {
      "image/png": "[encoded data removed]",
      "text/plain": [
       "<Figure size 720x432 with 1 Axes>"
      ]
     },
     "metadata": {},
     "output_type": "display_data"
    }
   ],
   "source": [
    "f_imp = zip(X_te.columns, xgb.feature_importances_)\n",
    "f_imp = sorted(f_imp, key=lambda x: x[1], reverse=True)\n",
    "for i in f_imp:\n",
    "    print(i, '\\n')\n",
    "\n",
    "df = pd.DataFrame(list(f_imp), columns=['f', 'fe']).head(\n",
    "    8).sort_values(by='fe')\n",
    "plt.figure(figsize=(10, 6))\n",
    "plt.barh(df.f, df.fe)\n",
    "plt.title('Feature Importance', fontsize=20)\n",
    "plt.xlabel('Percentage')\n",
    "plt.yticks(fontsize=15)"
   ]
  }
 ],
 "metadata": {
  "kernelspec": {
   "display_name": "Python 3",
   "language": "python",
   "name": "python3"
  },
  "language_info": {
   "codemirror_mode": {
    "name": "ipython",
    "version": 3
   },
   "file_extension": ".py",
   "mimetype": "text/x-python",
   "name": "python",
   "nbconvert_exporter": "python",
   "pygments_lexer": "ipython3",
   "version": "3.7.6"
  },
  "toc": {
   "base_numbering": 1,
   "nav_menu": {},
   "number_sections": true,
   "sideBar": true,
   "skip_h1_title": false,
   "title_cell": "Table of Contents",
   "title_sidebar": "Contents",
   "toc_cell": false,
   "toc_position": {
    "height": "calc(100% - 180px)",
    "left": "10px",
    "top": "150px",
    "width": "164.988px"
   },
   "toc_section_display": true,
   "toc_window_display": true
  }
 },
 "nbformat": 4,
 "nbformat_minor": 4
}
