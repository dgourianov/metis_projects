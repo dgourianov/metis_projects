{
 "cells": [
  {
   "cell_type": "markdown",
   "metadata": {},
   "source": [
    "# Identifying best classification model on a subset of the data\n"
   ]
  },
  {
   "cell_type": "code",
   "execution_count": 129,
   "metadata": {},
   "outputs": [],
   "source": [
    "import pandas as pd\n",
    "import numpy as np\n",
    "import timeit\n",
    "from sklearn.metrics import f1_score\n",
    "from sklearn.model_selection import train_test_split\n",
    "from sklearn.linear_model import LogisticRegression\n",
    "import xgboost as xgb\n",
    "from collections import OrderedDict\n",
    "from sklearn.metrics import precision_score, recall_score, precision_recall_curve, f1_score, fbeta_score\n",
    "from sklearn.metrics import confusion_matrix, plot_confusion_matrix\n",
    "import seaborn as sns\n",
    "import matplotlib.pyplot as plt\n",
    "sns.set()"
   ]
  },
  {
   "cell_type": "code",
   "execution_count": 130,
   "metadata": {},
   "outputs": [],
   "source": [
    "all = pd.read_csv('insta_sample.csv')\n",
    "dept = pd.read_csv('mer_products.csv')"
   ]
  },
  {
   "cell_type": "code",
   "execution_count": 131,
   "metadata": {},
   "outputs": [
    {
     "data": {
      "text/plain": [
       "(6390,)"
      ]
     },
     "execution_count": 131,
     "metadata": {},
     "output_type": "execute_result"
    }
   ],
   "source": [
    "all.user_id[all.eval_set == 'train'].unique().shape"
   ]
  },
  {
   "cell_type": "code",
   "execution_count": 132,
   "metadata": {},
   "outputs": [
    {
     "data": {
      "text/plain": [
       "(10000,)"
      ]
     },
     "execution_count": 132,
     "metadata": {},
     "output_type": "execute_result"
    }
   ],
   "source": [
    "all.user_id[all.eval_set == 'prior'].unique().shape"
   ]
  },
  {
   "cell_type": "code",
   "execution_count": 133,
   "metadata": {},
   "outputs": [],
   "source": [
    "order_products_train = all[all.eval_set == 'train']\n",
    "order_products_prior = all[all.eval_set == 'prior']"
   ]
  },
  {
   "cell_type": "code",
   "execution_count": 134,
   "metadata": {},
   "outputs": [],
   "source": [
    "train_ids = order_products_train['user_id'].unique()\n",
    "order_products_prior = order_products_prior[order_products_prior['user_id'].isin(\n",
    "    train_ids)]"
   ]
  },
  {
   "cell_type": "code",
   "execution_count": 135,
   "metadata": {},
   "outputs": [],
   "source": [
    "dept1 = dept.copy()\n",
    "dept1 = dept1[['product_id', 'aisle_id', 'department_id']]\n",
    "order_products_prior = pd.merge(order_products_prior, dept1, on=['product_id'])"
   ]
  },
  {
   "cell_type": "code",
   "execution_count": 136,
   "metadata": {},
   "outputs": [
    {
     "name": "stdout",
     "output_type": "stream",
     "text": [
      "<class 'pandas.core.frame.DataFrame'>\n",
      "Int64Index: 66576 entries, 0 to 1651119\n",
      "Data columns (total 10 columns):\n",
      "order_id           66576 non-null int64\n",
      "product_id         66576 non-null int64\n",
      "add_cart_order     66576 non-null int64\n",
      "reordered          66576 non-null int64\n",
      "user_id            66576 non-null int64\n",
      "eval_set           66576 non-null object\n",
      "order_number       66576 non-null int64\n",
      "order_dow          66576 non-null int64\n",
      "order_hour         66576 non-null int64\n",
      "days_last_order    66576 non-null float64\n",
      "dtypes: float64(1), int64(8), object(1)\n",
      "memory usage: 5.6+ MB\n"
     ]
    }
   ],
   "source": [
    "order_products_train.info()"
   ]
  },
  {
   "cell_type": "code",
   "execution_count": 137,
   "metadata": {},
   "outputs": [
    {
     "data": {
      "text/plain": [
       "order_id            6390\n",
       "product_id         13935\n",
       "add_cart_order        61\n",
       "reordered              2\n",
       "user_id             6390\n",
       "eval_set               1\n",
       "order_number          96\n",
       "order_dow              7\n",
       "order_hour            24\n",
       "days_last_order       31\n",
       "dtype: int64"
      ]
     },
     "execution_count": 137,
     "metadata": {},
     "output_type": "execute_result"
    }
   ],
   "source": [
    "order_products_train.nunique()"
   ]
  },
  {
   "cell_type": "code",
   "execution_count": 138,
   "metadata": {},
   "outputs": [
    {
     "name": "stdout",
     "output_type": "stream",
     "text": [
      "<class 'pandas.core.frame.DataFrame'>\n",
      "Int64Index: 1015388 entries, 0 to 1015387\n",
      "Data columns (total 12 columns):\n",
      "order_id           1015388 non-null int64\n",
      "product_id         1015388 non-null int64\n",
      "add_cart_order     1015388 non-null int64\n",
      "reordered          1015388 non-null int64\n",
      "user_id            1015388 non-null int64\n",
      "eval_set           1015388 non-null object\n",
      "order_number       1015388 non-null int64\n",
      "order_dow          1015388 non-null int64\n",
      "order_hour         1015388 non-null int64\n",
      "days_last_order    951157 non-null float64\n",
      "aisle_id           1015388 non-null int64\n",
      "department_id      1015388 non-null int64\n",
      "dtypes: float64(1), int64(10), object(1)\n",
      "memory usage: 100.7+ MB\n"
     ]
    }
   ],
   "source": [
    "order_products_prior.info()"
   ]
  },
  {
   "cell_type": "code",
   "execution_count": 139,
   "metadata": {},
   "outputs": [],
   "source": [
    "# imputing null values in the first order\n",
    "order_products_prior.fillna(order_products_prior.days_last_order.mean(), inplace=True)"
   ]
  },
  {
   "cell_type": "code",
   "execution_count": 140,
   "metadata": {},
   "outputs": [
    {
     "data": {
      "text/plain": [
       "order_id           0\n",
       "product_id         0\n",
       "add_cart_order     0\n",
       "reordered          0\n",
       "user_id            0\n",
       "eval_set           0\n",
       "order_number       0\n",
       "order_dow          0\n",
       "order_hour         0\n",
       "days_last_order    0\n",
       "aisle_id           0\n",
       "department_id      0\n",
       "dtype: int64"
      ]
     },
     "execution_count": 140,
     "metadata": {},
     "output_type": "execute_result"
    }
   ],
   "source": [
    "order_products_prior.isna().sum()"
   ]
  },
  {
   "cell_type": "code",
   "execution_count": 141,
   "metadata": {},
   "outputs": [],
   "source": [
    "insta = order_products_prior[['product_id', 'user_id']].drop_duplicates()"
   ]
  },
  {
   "cell_type": "code",
   "execution_count": 142,
   "metadata": {},
   "outputs": [
    {
     "data": {
      "text/plain": [
       "(417037, 2)"
      ]
     },
     "execution_count": 142,
     "metadata": {},
     "output_type": "execute_result"
    }
   ],
   "source": [
    "insta.shape"
   ]
  },
  {
   "cell_type": "code",
   "execution_count": 143,
   "metadata": {},
   "outputs": [
    {
     "data": {
      "text/plain": [
       "(6390,)"
      ]
     },
     "execution_count": 143,
     "metadata": {},
     "output_type": "execute_result"
    }
   ],
   "source": [
    "insta.user_id.unique().shape"
   ]
  },
  {
   "cell_type": "code",
   "execution_count": 144,
   "metadata": {},
   "outputs": [
    {
     "name": "stdout",
     "output_type": "stream",
     "text": [
      "      product_id  user_id                                        latest_cart  \\\n",
      "8342       26497    83652  {22935, 22559, 48679, 12975, 47792, 45104, 219...   \n",
      "\n",
      "      in_cart  \n",
      "8342        0  \n",
      "(417037, 4)\n"
     ]
    }
   ],
   "source": [
    "# converting into binary classification problem\n",
    "train_carts = (order_products_train.groupby('user_id', as_index=False)\n",
    "                                   .agg({'product_id': (lambda x: set(x))})\n",
    "                                   .rename(columns={'product_id': 'latest_cart'}))\n",
    "\n",
    "insta = insta.merge(train_carts, on='user_id')\n",
    "insta['in_cart'] = (insta.apply(lambda row: row['product_id']\n",
    "                                in row['latest_cart'], axis=1).astype(int))\n",
    "print(insta.sample(1))\n",
    "print(insta.shape)"
   ]
  },
  {
   "cell_type": "code",
   "execution_count": 145,
   "metadata": {},
   "outputs": [],
   "source": [
    "def get_user_split_data(df, test_size=.20, seed=42):\n",
    "\n",
    "    rs = np.random.RandomState(seed)\n",
    "\n",
    "    total_users = df['user_id'].unique()\n",
    "    test_users = rs.choice(total_users,\n",
    "                           size=int(total_users.shape[0] * test_size),\n",
    "                           replace=False)\n",
    "    df_te = df[df['user_id'].isin(test_users)]\n",
    "\n",
    "    df_val_tr = df[~df['user_id'].isin(test_users)]\n",
    "\n",
    "    val_tr_users = df_val_tr['user_id'].unique()\n",
    "\n",
    "    val_users = (rs.choice(val_tr_users,\n",
    "                           size=int(val_tr_users.shape[0] * test_size),\n",
    "                           replace=False))\n",
    "\n",
    "    df_tr = df_val_tr[~df_val_tr['user_id'].isin(val_users)]\n",
    "\n",
    "    df_val = df_val_tr[df_val_tr['user_id'].isin(val_users)]\n",
    "\n",
    "    y_tr, y_te, y_val = df_tr['in_cart'], df_te['in_cart'], df_val['in_cart']\n",
    "    X_tr = df_tr.drop(\n",
    "        ['product_id', 'user_id', 'latest_cart', 'in_cart'], axis=1)\n",
    "    X_te = df_te.drop(\n",
    "        ['product_id', 'user_id', 'latest_cart', 'in_cart'], axis=1)\n",
    "    X_val = df_val.drop(\n",
    "        ['product_id', 'user_id', 'latest_cart', 'in_cart'], axis=1)\n",
    "    return X_tr, X_te, X_val, y_tr, y_te, y_val"
   ]
  },
  {
   "cell_type": "markdown",
   "metadata": {},
   "source": [
    "# Feature Engineering"
   ]
  },
  {
   "cell_type": "markdown",
   "metadata": {},
   "source": [
    "## Product / Department / Aisle features"
   ]
  },
  {
   "cell_type": "code",
   "execution_count": 146,
   "metadata": {},
   "outputs": [
    {
     "data": {
      "text/html": [
       "<div>\n",
       "<style scoped>\n",
       "    .dataframe tbody tr th:only-of-type {\n",
       "        vertical-align: middle;\n",
       "    }\n",
       "\n",
       "    .dataframe tbody tr th {\n",
       "        vertical-align: top;\n",
       "    }\n",
       "\n",
       "    .dataframe thead th {\n",
       "        text-align: right;\n",
       "    }\n",
       "</style>\n",
       "<table border=\"1\" class=\"dataframe\">\n",
       "  <thead>\n",
       "    <tr style=\"text-align: right;\">\n",
       "      <th></th>\n",
       "      <th>product_id</th>\n",
       "      <th>p_total_orders</th>\n",
       "      <th>p_avg_add_cart_order</th>\n",
       "    </tr>\n",
       "  </thead>\n",
       "  <tbody>\n",
       "    <tr>\n",
       "      <th>25942</th>\n",
       "      <td>40848</td>\n",
       "      <td>1</td>\n",
       "      <td>24.0</td>\n",
       "    </tr>\n",
       "  </tbody>\n",
       "</table>\n",
       "</div>"
      ],
      "text/plain": [
       "       product_id  p_total_orders  p_avg_add_cart_order\n",
       "25942       40848               1                  24.0"
      ]
     },
     "execution_count": 146,
     "metadata": {},
     "output_type": "execute_result"
    }
   ],
   "source": [
    "p_features_names = ['p_total_orders', 'p_avg_add_cart_order']\n",
    "\n",
    "p_features = (order_products_prior.groupby(['product_id'], as_index=False)\n",
    "              .agg(OrderedDict(\n",
    "                  [('order_id', 'nunique'),\n",
    "                   ('add_cart_order', 'mean')])))\n",
    "p_features.columns = ['product_id'] + p_features_names\n",
    "p_features.sample(1)"
   ]
  },
  {
   "cell_type": "code",
   "execution_count": 147,
   "metadata": {},
   "outputs": [
    {
     "data": {
      "text/plain": [
       "(31514, 3)"
      ]
     },
     "execution_count": 147,
     "metadata": {},
     "output_type": "execute_result"
    }
   ],
   "source": [
    "p_features.shape"
   ]
  },
  {
   "cell_type": "code",
   "execution_count": 148,
   "metadata": {},
   "outputs": [
    {
     "data": {
      "text/html": [
       "<div>\n",
       "<style scoped>\n",
       "    .dataframe tbody tr th:only-of-type {\n",
       "        vertical-align: middle;\n",
       "    }\n",
       "\n",
       "    .dataframe tbody tr th {\n",
       "        vertical-align: top;\n",
       "    }\n",
       "\n",
       "    .dataframe thead th {\n",
       "        text-align: right;\n",
       "    }\n",
       "</style>\n",
       "<table border=\"1\" class=\"dataframe\">\n",
       "  <thead>\n",
       "    <tr style=\"text-align: right;\">\n",
       "      <th></th>\n",
       "      <th>product_id</th>\n",
       "      <th>p_total_orders</th>\n",
       "      <th>p_avg_add_cart_order</th>\n",
       "      <th>p_order_dow</th>\n",
       "    </tr>\n",
       "  </thead>\n",
       "  <tbody>\n",
       "    <tr>\n",
       "      <th>7910</th>\n",
       "      <td>12535</td>\n",
       "      <td>3</td>\n",
       "      <td>6.0</td>\n",
       "      <td>4.0</td>\n",
       "    </tr>\n",
       "  </tbody>\n",
       "</table>\n",
       "</div>"
      ],
      "text/plain": [
       "      product_id  p_total_orders  p_avg_add_cart_order  p_order_dow\n",
       "7910       12535               3                   6.0          4.0"
      ]
     },
     "execution_count": 148,
     "metadata": {},
     "output_type": "execute_result"
    }
   ],
   "source": [
    "# product average day of week ordered\n",
    "p_dow = order_products_prior.groupby(\n",
    "    ['product_id'])[['order_dow']].mean().reset_index()\n",
    "p_dow.columns = ['product_id', 'p_order_dow']\n",
    "p_features = pd.merge(p_features, p_dow, on=['product_id'], how='left')\n",
    "p_features.sample(1)"
   ]
  },
  {
   "cell_type": "code",
   "execution_count": 149,
   "metadata": {},
   "outputs": [
    {
     "data": {
      "text/plain": [
       "(31514, 4)"
      ]
     },
     "execution_count": 149,
     "metadata": {},
     "output_type": "execute_result"
    }
   ],
   "source": [
    "p_features.shape"
   ]
  },
  {
   "cell_type": "code",
   "execution_count": 150,
   "metadata": {},
   "outputs": [
    {
     "data": {
      "text/html": [
       "<div>\n",
       "<style scoped>\n",
       "    .dataframe tbody tr th:only-of-type {\n",
       "        vertical-align: middle;\n",
       "    }\n",
       "\n",
       "    .dataframe tbody tr th {\n",
       "        vertical-align: top;\n",
       "    }\n",
       "\n",
       "    .dataframe thead th {\n",
       "        text-align: right;\n",
       "    }\n",
       "</style>\n",
       "<table border=\"1\" class=\"dataframe\">\n",
       "  <thead>\n",
       "    <tr style=\"text-align: right;\">\n",
       "      <th></th>\n",
       "      <th>product_id</th>\n",
       "      <th>p_total_orders</th>\n",
       "      <th>p_avg_add_cart_order</th>\n",
       "      <th>p_order_dow</th>\n",
       "      <th>p_order_hour</th>\n",
       "    </tr>\n",
       "  </thead>\n",
       "  <tbody>\n",
       "    <tr>\n",
       "      <th>0</th>\n",
       "      <td>1</td>\n",
       "      <td>29</td>\n",
       "      <td>7.413793</td>\n",
       "      <td>2.931034</td>\n",
       "      <td>13.241379</td>\n",
       "    </tr>\n",
       "    <tr>\n",
       "      <th>1</th>\n",
       "      <td>2</td>\n",
       "      <td>3</td>\n",
       "      <td>12.000000</td>\n",
       "      <td>3.000000</td>\n",
       "      <td>16.000000</td>\n",
       "    </tr>\n",
       "    <tr>\n",
       "      <th>2</th>\n",
       "      <td>3</td>\n",
       "      <td>2</td>\n",
       "      <td>3.500000</td>\n",
       "      <td>4.500000</td>\n",
       "      <td>5.500000</td>\n",
       "    </tr>\n",
       "    <tr>\n",
       "      <th>3</th>\n",
       "      <td>4</td>\n",
       "      <td>14</td>\n",
       "      <td>11.214286</td>\n",
       "      <td>1.928571</td>\n",
       "      <td>13.928571</td>\n",
       "    </tr>\n",
       "    <tr>\n",
       "      <th>4</th>\n",
       "      <td>8</td>\n",
       "      <td>4</td>\n",
       "      <td>4.500000</td>\n",
       "      <td>3.000000</td>\n",
       "      <td>17.250000</td>\n",
       "    </tr>\n",
       "  </tbody>\n",
       "</table>\n",
       "</div>"
      ],
      "text/plain": [
       "   product_id  p_total_orders  p_avg_add_cart_order  p_order_dow  p_order_hour\n",
       "0           1              29              7.413793     2.931034     13.241379\n",
       "1           2               3             12.000000     3.000000     16.000000\n",
       "2           3               2              3.500000     4.500000      5.500000\n",
       "3           4              14             11.214286     1.928571     13.928571\n",
       "4           8               4              4.500000     3.000000     17.250000"
      ]
     },
     "execution_count": 150,
     "metadata": {},
     "output_type": "execute_result"
    }
   ],
   "source": [
    "# product average hour ordered\n",
    "p_hour = order_products_prior.groupby(\n",
    "    ['product_id'])[['order_hour']].mean().reset_index()\n",
    "p_hour.columns = ['product_id', 'p_order_hour']\n",
    "p_features = pd.merge(p_features, p_hour, on=['product_id'], how='left')\n",
    "p_features.head()"
   ]
  },
  {
   "cell_type": "code",
   "execution_count": 151,
   "metadata": {},
   "outputs": [],
   "source": [
    "# product reorder rate\n",
    "reordered = order_products_prior.groupby(\n",
    "    ['product_id'])[['reordered']].sum().reset_index()\n",
    "reordered.columns = ['product_id', 'reorder_sum']\n",
    "p_features = pd.merge(p_features, reordered, on=['product_id'], how='left')\n",
    "p_features['p_reorder_rate'] = p_features.reorder_sum/p_features.p_total_orders"
   ]
  },
  {
   "cell_type": "code",
   "execution_count": 152,
   "metadata": {},
   "outputs": [
    {
     "data": {
      "text/plain": [
       "(31514, 7)"
      ]
     },
     "execution_count": 152,
     "metadata": {},
     "output_type": "execute_result"
    }
   ],
   "source": [
    "p_features.shape"
   ]
  },
  {
   "cell_type": "code",
   "execution_count": 153,
   "metadata": {},
   "outputs": [],
   "source": [
    "# aisle reorder rate\n",
    "opp_a = order_products_prior[['product_id', 'aisle_id']].drop_duplicates()\n",
    "opp_a.sample(1)\n",
    "p_features = pd.merge(p_features, opp_a, how='left', on=['product_id'])\n",
    "reordered_a = order_products_prior.groupby(\n",
    "    ['aisle_id'])[['reordered']].mean().reset_index()\n",
    "reordered_a.columns = ['aisle_id', 'a_reorder_rate']\n",
    "p_features = pd.merge(p_features, reordered_a, how='left', on='aisle_id')\n",
    "p_features.drop(['aisle_id'], axis=1, inplace=True)"
   ]
  },
  {
   "cell_type": "code",
   "execution_count": 154,
   "metadata": {},
   "outputs": [
    {
     "name": "stdout",
     "output_type": "stream",
     "text": [
      "(21, 2)\n"
     ]
    }
   ],
   "source": [
    "# department reorder rate\n",
    "opp_d = order_products_prior[['product_id', 'department_id']].drop_duplicates()\n",
    "opp_d.sample(1)\n",
    "p_features = pd.merge(p_features, opp_d, how='left', on=['product_id'])\n",
    "reordered_d = order_products_prior.groupby(\n",
    "    ['department_id'])[['reordered']].mean().reset_index()\n",
    "reordered_d.columns = ['department_id', 'd_reorder_rate']\n",
    "print(reordered_d.shape)\n",
    "p_features = pd.merge(p_features, reordered_d, how='left', on='department_id')\n",
    "p_features.drop(['department_id'], axis=1, inplace=True)"
   ]
  },
  {
   "cell_type": "code",
   "execution_count": 155,
   "metadata": {},
   "outputs": [
    {
     "data": {
      "text/plain": [
       "(31514, 9)"
      ]
     },
     "execution_count": 155,
     "metadata": {},
     "output_type": "execute_result"
    }
   ],
   "source": [
    "p_features.shape"
   ]
  },
  {
   "cell_type": "code",
   "execution_count": 156,
   "metadata": {},
   "outputs": [
    {
     "name": "stdout",
     "output_type": "stream",
     "text": [
      "       product_id  user_id                                        latest_cart  \\\n",
      "83661        7948    92338  {6400, 30720, 24841, 49289, 21137, 22035, 2485...   \n",
      "\n",
      "       in_cart  p_total_orders  p_avg_add_cart_order  p_order_dow  \\\n",
      "83661        0             702              8.343305     2.830484   \n",
      "\n",
      "       p_order_hour  reorder_sum  p_reorder_rate  a_reorder_rate  \\\n",
      "83661     13.490028          375        0.534188        0.586935   \n",
      "\n",
      "       d_reorder_rate  \n",
      "83661        0.671604  \n"
     ]
    }
   ],
   "source": [
    "insta = insta.merge(p_features, on='product_id')\n",
    "print(insta.sample(1))"
   ]
  },
  {
   "cell_type": "markdown",
   "metadata": {},
   "source": [
    "## User features"
   ]
  },
  {
   "cell_type": "code",
   "execution_count": 157,
   "metadata": {
    "scrolled": true
   },
   "outputs": [
    {
     "name": "stdout",
     "output_type": "stream",
     "text": [
      "      user_id  u_total_orders  u_avg_cartsize  u_total_products  \\\n",
      "2741    89765              19       15.842105                83   \n",
      "\n",
      "      u_avg_days_since_prior_order  \n",
      "2741                     13.857759  \n",
      "(6390, 5)\n"
     ]
    }
   ],
   "source": [
    "u_features_names = ['u_total_orders', 'u_avg_cartsize',\n",
    "                    'u_total_products', 'u_avg_days_since_prior_order']\n",
    "\n",
    "u_features = (order_products_prior.groupby(['user_id'], as_index=False)\n",
    "              .agg(OrderedDict(\n",
    "                  [('order_id', ['nunique', (lambda x: x.shape[0] / x.nunique())]),\n",
    "                   ('product_id', 'nunique'),\n",
    "                   ('days_last_order', 'mean')])))\n",
    "\n",
    "u_features.columns = ['user_id'] + u_features_names\n",
    "print(u_features.sample(1))\n",
    "print(u_features.shape)"
   ]
  },
  {
   "cell_type": "code",
   "execution_count": 158,
   "metadata": {},
   "outputs": [
    {
     "name": "stderr",
     "output_type": "stream",
     "text": [
      "/home/dgou1218/anaconda3/envs/metis/lib/python3.7/site-packages/ipykernel_launcher.py:4: SettingWithCopyWarning: \n",
      "A value is trying to be set on a copy of a slice from a DataFrame\n",
      "\n",
      "See the caveats in the documentation: http://pandas.pydata.org/pandas-docs/stable/user_guide/indexing.html#returning-a-view-versus-a-copy\n",
      "  after removing the cwd from sys.path.\n"
     ]
    }
   ],
   "source": [
    "# user's TRAIN order - dow and hour info\n",
    "u_train_dow_hour = order_products_train[['user_id', 'order_dow', 'order_hour']]\n",
    "\n",
    "u_train_dow_hour.drop_duplicates(inplace=True)\n",
    "\n",
    "u_train_dow_hour.columns = ['user_id', 'u_train_order_dow', 'u_train_hour']\n",
    "\n",
    "u_features = pd.merge(u_features, u_train_dow_hour, on='user_id', how='left')"
   ]
  },
  {
   "cell_type": "code",
   "execution_count": 159,
   "metadata": {},
   "outputs": [],
   "source": [
    "insta = insta.merge(u_features, on='user_id', how='left')"
   ]
  },
  {
   "cell_type": "markdown",
   "metadata": {},
   "source": [
    "## User-Product/Department features"
   ]
  },
  {
   "cell_type": "code",
   "execution_count": 160,
   "metadata": {},
   "outputs": [
    {
     "data": {
      "text/html": [
       "<div>\n",
       "<style scoped>\n",
       "    .dataframe tbody tr th:only-of-type {\n",
       "        vertical-align: middle;\n",
       "    }\n",
       "\n",
       "    .dataframe tbody tr th {\n",
       "        vertical-align: top;\n",
       "    }\n",
       "\n",
       "    .dataframe thead th {\n",
       "        text-align: right;\n",
       "    }\n",
       "</style>\n",
       "<table border=\"1\" class=\"dataframe\">\n",
       "  <thead>\n",
       "    <tr style=\"text-align: right;\">\n",
       "      <th></th>\n",
       "      <th>product_id</th>\n",
       "      <th>user_id</th>\n",
       "      <th>u_p_total_orders</th>\n",
       "    </tr>\n",
       "  </thead>\n",
       "  <tbody>\n",
       "    <tr>\n",
       "      <th>228823</th>\n",
       "      <td>27735</td>\n",
       "      <td>73981</td>\n",
       "      <td>5</td>\n",
       "    </tr>\n",
       "  </tbody>\n",
       "</table>\n",
       "</div>"
      ],
      "text/plain": [
       "        product_id  user_id  u_p_total_orders\n",
       "228823       27735    73981                 5"
      ]
     },
     "execution_count": 160,
     "metadata": {},
     "output_type": "execute_result"
    }
   ],
   "source": [
    "#u_p total orders\n",
    "u_p_features = (order_products_prior.groupby(['product_id', 'user_id'], as_index=False)\n",
    "                .agg({'order_id': 'count'})\n",
    "                .rename(columns={'order_id': 'u_p_total_orders'}))\n",
    "u_p_features.sample(1)"
   ]
  },
  {
   "cell_type": "code",
   "execution_count": 161,
   "metadata": {
    "scrolled": true
   },
   "outputs": [
    {
     "data": {
      "text/html": [
       "<div>\n",
       "<style scoped>\n",
       "    .dataframe tbody tr th:only-of-type {\n",
       "        vertical-align: middle;\n",
       "    }\n",
       "\n",
       "    .dataframe tbody tr th {\n",
       "        vertical-align: top;\n",
       "    }\n",
       "\n",
       "    .dataframe thead th {\n",
       "        text-align: right;\n",
       "    }\n",
       "</style>\n",
       "<table border=\"1\" class=\"dataframe\">\n",
       "  <thead>\n",
       "    <tr style=\"text-align: right;\">\n",
       "      <th></th>\n",
       "      <th>order_id</th>\n",
       "      <th>product_id</th>\n",
       "      <th>add_cart_order</th>\n",
       "      <th>reordered</th>\n",
       "      <th>user_id</th>\n",
       "      <th>eval_set</th>\n",
       "      <th>order_number</th>\n",
       "      <th>order_dow</th>\n",
       "      <th>order_hour</th>\n",
       "      <th>days_last_order</th>\n",
       "      <th>aisle_id</th>\n",
       "      <th>department_id</th>\n",
       "    </tr>\n",
       "  </thead>\n",
       "  <tbody>\n",
       "    <tr>\n",
       "      <th>521954</th>\n",
       "      <td>2699154</td>\n",
       "      <td>25093</td>\n",
       "      <td>23</td>\n",
       "      <td>0</td>\n",
       "      <td>195514</td>\n",
       "      <td>prior</td>\n",
       "      <td>11</td>\n",
       "      <td>2</td>\n",
       "      <td>15</td>\n",
       "      <td>10.0</td>\n",
       "      <td>21</td>\n",
       "      <td>16</td>\n",
       "    </tr>\n",
       "    <tr>\n",
       "      <th>435455</th>\n",
       "      <td>849517</td>\n",
       "      <td>33273</td>\n",
       "      <td>5</td>\n",
       "      <td>0</td>\n",
       "      <td>12035</td>\n",
       "      <td>prior</td>\n",
       "      <td>14</td>\n",
       "      <td>3</td>\n",
       "      <td>15</td>\n",
       "      <td>1.0</td>\n",
       "      <td>41</td>\n",
       "      <td>8</td>\n",
       "    </tr>\n",
       "  </tbody>\n",
       "</table>\n",
       "</div>"
      ],
      "text/plain": [
       "        order_id  product_id  add_cart_order  reordered  user_id eval_set  \\\n",
       "521954   2699154       25093              23          0   195514    prior   \n",
       "435455    849517       33273               5          0    12035    prior   \n",
       "\n",
       "        order_number  order_dow  order_hour  days_last_order  aisle_id  \\\n",
       "521954            11          2          15             10.0        21   \n",
       "435455            14          3          15              1.0        41   \n",
       "\n",
       "        department_id  \n",
       "521954             16  \n",
       "435455              8  "
      ]
     },
     "execution_count": 161,
     "metadata": {},
     "output_type": "execute_result"
    }
   ],
   "source": [
    "#u_p add cart order\n",
    "u_p_features['u_p_avg_add_to_cart_order'] = (order_products_prior.groupby(['product_id', 'user_id'], as_index=False)\n",
    "                                             .agg(OrderedDict(\n",
    "                                                 [('add_cart_order', 'mean')]))['add_cart_order'])\n",
    "order_products_prior.sample(2)"
   ]
  },
  {
   "cell_type": "code",
   "execution_count": 162,
   "metadata": {},
   "outputs": [
    {
     "data": {
      "text/html": [
       "<div>\n",
       "<style scoped>\n",
       "    .dataframe tbody tr th:only-of-type {\n",
       "        vertical-align: middle;\n",
       "    }\n",
       "\n",
       "    .dataframe tbody tr th {\n",
       "        vertical-align: top;\n",
       "    }\n",
       "\n",
       "    .dataframe thead th {\n",
       "        text-align: right;\n",
       "    }\n",
       "</style>\n",
       "<table border=\"1\" class=\"dataframe\">\n",
       "  <thead>\n",
       "    <tr style=\"text-align: right;\">\n",
       "      <th></th>\n",
       "      <th>product_id</th>\n",
       "      <th>user_id</th>\n",
       "      <th>u_p_total_orders</th>\n",
       "      <th>u_p_avg_add_to_cart_order</th>\n",
       "      <th>u_p_num_ordered</th>\n",
       "      <th>user_total_orders</th>\n",
       "      <th>u_p_order_rate</th>\n",
       "    </tr>\n",
       "  </thead>\n",
       "  <tbody>\n",
       "    <tr>\n",
       "      <th>0</th>\n",
       "      <td>1</td>\n",
       "      <td>10113</td>\n",
       "      <td>1</td>\n",
       "      <td>5.0</td>\n",
       "      <td>1</td>\n",
       "      <td>11</td>\n",
       "      <td>0.090909</td>\n",
       "    </tr>\n",
       "    <tr>\n",
       "      <th>1</th>\n",
       "      <td>1</td>\n",
       "      <td>11119</td>\n",
       "      <td>1</td>\n",
       "      <td>1.0</td>\n",
       "      <td>1</td>\n",
       "      <td>23</td>\n",
       "      <td>0.043478</td>\n",
       "    </tr>\n",
       "  </tbody>\n",
       "</table>\n",
       "</div>"
      ],
      "text/plain": [
       "   product_id  user_id  u_p_total_orders  u_p_avg_add_to_cart_order  \\\n",
       "0           1    10113                 1                        5.0   \n",
       "1           1    11119                 1                        1.0   \n",
       "\n",
       "   u_p_num_ordered  user_total_orders  u_p_order_rate  \n",
       "0                1                 11        0.090909  \n",
       "1                1                 23        0.043478  "
      ]
     },
     "execution_count": 162,
     "metadata": {},
     "output_type": "execute_result"
    }
   ],
   "source": [
    "# u_p order rate\n",
    "u_p_num_ordered = order_products_prior.groupby(['user_id', 'product_id'], as_index=False)[\n",
    "    ['order_id']].count()\n",
    "u_p_num_ordered.columns = ['user_id', 'product_id', 'u_p_num_ordered']\n",
    "u_p_features = pd.merge(u_p_features, u_p_num_ordered, on=[\n",
    "                        'user_id', 'product_id'], how='left')\n",
    "tot_orders = order_products_prior.groupby(\n",
    "    'user_id', as_index=False)[['order_number']].max()\n",
    "tot_orders.columns = ['user_id', 'user_total_orders']\n",
    "u_p_features = pd.merge(u_p_features, tot_orders, on='user_id', how='left')\n",
    "u_p_features['u_p_order_rate'] = u_p_features['u_p_num_ordered'] / \\\n",
    "    u_p_features['user_total_orders']\n",
    "u_p_features.head(2)"
   ]
  },
  {
   "cell_type": "code",
   "execution_count": 163,
   "metadata": {},
   "outputs": [],
   "source": [
    "# user dept order rate\n",
    "\n",
    "u_d_num_ordered = order_products_prior.groupby(['user_id', 'department_id'], as_index=False)[\n",
    "    ['order_id']].count()\n",
    "u_d_num_ordered.columns = ['user_id', 'department_id', 'u_d_num_ordered']\n",
    "u_d_num_ordered = pd.merge(u_d_num_ordered, tot_orders, on='user_id')\n",
    "u_d_num_ordered['u_d_order_rate'] = u_d_num_ordered.u_d_num_ordered / \\\n",
    "    u_d_num_ordered.user_total_orders\n",
    "u_d_order_rate = u_d_num_ordered.drop(\n",
    "    ['u_d_num_ordered', 'user_total_orders'], axis=1)\n",
    "opp_u_d = order_products_prior[[\n",
    "    'user_id', 'product_id', 'department_id']].drop_duplicates()"
   ]
  },
  {
   "cell_type": "code",
   "execution_count": 164,
   "metadata": {},
   "outputs": [
    {
     "data": {
      "text/html": [
       "<div>\n",
       "<style scoped>\n",
       "    .dataframe tbody tr th:only-of-type {\n",
       "        vertical-align: middle;\n",
       "    }\n",
       "\n",
       "    .dataframe tbody tr th {\n",
       "        vertical-align: top;\n",
       "    }\n",
       "\n",
       "    .dataframe thead th {\n",
       "        text-align: right;\n",
       "    }\n",
       "</style>\n",
       "<table border=\"1\" class=\"dataframe\">\n",
       "  <thead>\n",
       "    <tr style=\"text-align: right;\">\n",
       "      <th></th>\n",
       "      <th>user_id</th>\n",
       "      <th>product_id</th>\n",
       "      <th>department_id</th>\n",
       "      <th>u_d_order_rate</th>\n",
       "    </tr>\n",
       "  </thead>\n",
       "  <tbody>\n",
       "    <tr>\n",
       "      <th>220635</th>\n",
       "      <td>161537</td>\n",
       "      <td>9862</td>\n",
       "      <td>7</td>\n",
       "      <td>1.638889</td>\n",
       "    </tr>\n",
       "  </tbody>\n",
       "</table>\n",
       "</div>"
      ],
      "text/plain": [
       "        user_id  product_id  department_id  u_d_order_rate\n",
       "220635   161537        9862              7        1.638889"
      ]
     },
     "execution_count": 164,
     "metadata": {},
     "output_type": "execute_result"
    }
   ],
   "source": [
    "u_d_features = pd.merge(opp_u_d, u_d_order_rate, on=[\n",
    "                        'user_id', 'department_id'])\n",
    "u_d_features.sample(1)"
   ]
  },
  {
   "cell_type": "code",
   "execution_count": 165,
   "metadata": {},
   "outputs": [],
   "source": [
    "# last order number and number of orders since last purchase\n",
    "last_order = order_products_prior.groupby(['user_id', 'product_id'], as_index=False)[\n",
    "    ['order_number']].max()\n",
    "last_order.columns = ['user_id', 'product_id', 'u_p_last_order_number']\n",
    "u_p_features = pd.merge(u_p_features, last_order, on=[\n",
    "                        'user_id', 'product_id'], how='left')\n",
    "u_p_features['u_p_orders_since_last_purch'] = u_p_features['user_total_orders'] - \\\n",
    "    u_p_features['u_p_last_order_number']\n",
    "u_p_features['u_p_in_last_order'] = (\n",
    "    u_p_features['u_p_orders_since_last_purch'] == 1).astype(int)"
   ]
  },
  {
   "cell_type": "code",
   "execution_count": 166,
   "metadata": {},
   "outputs": [
    {
     "data": {
      "text/html": [
       "<div>\n",
       "<style scoped>\n",
       "    .dataframe tbody tr th:only-of-type {\n",
       "        vertical-align: middle;\n",
       "    }\n",
       "\n",
       "    .dataframe tbody tr th {\n",
       "        vertical-align: top;\n",
       "    }\n",
       "\n",
       "    .dataframe thead th {\n",
       "        text-align: right;\n",
       "    }\n",
       "</style>\n",
       "<table border=\"1\" class=\"dataframe\">\n",
       "  <thead>\n",
       "    <tr style=\"text-align: right;\">\n",
       "      <th></th>\n",
       "      <th>product_id</th>\n",
       "      <th>user_id</th>\n",
       "      <th>u_p_total_orders</th>\n",
       "      <th>u_p_avg_add_to_cart_order</th>\n",
       "      <th>u_p_num_ordered</th>\n",
       "      <th>user_total_orders</th>\n",
       "      <th>u_p_order_rate</th>\n",
       "      <th>u_p_last_order_number</th>\n",
       "      <th>u_p_orders_since_last_purch</th>\n",
       "      <th>u_p_in_last_order</th>\n",
       "      <th>u_p_order_dow</th>\n",
       "    </tr>\n",
       "  </thead>\n",
       "  <tbody>\n",
       "    <tr>\n",
       "      <th>243432</th>\n",
       "      <td>29334</td>\n",
       "      <td>93764</td>\n",
       "      <td>3</td>\n",
       "      <td>12.666667</td>\n",
       "      <td>3</td>\n",
       "      <td>33</td>\n",
       "      <td>0.090909</td>\n",
       "      <td>18</td>\n",
       "      <td>15</td>\n",
       "      <td>0</td>\n",
       "      <td>4.666667</td>\n",
       "    </tr>\n",
       "  </tbody>\n",
       "</table>\n",
       "</div>"
      ],
      "text/plain": [
       "        product_id  user_id  u_p_total_orders  u_p_avg_add_to_cart_order  \\\n",
       "243432       29334    93764                 3                  12.666667   \n",
       "\n",
       "        u_p_num_ordered  user_total_orders  u_p_order_rate  \\\n",
       "243432                3                 33        0.090909   \n",
       "\n",
       "        u_p_last_order_number  u_p_orders_since_last_purch  u_p_in_last_order  \\\n",
       "243432                     18                           15                  0   \n",
       "\n",
       "        u_p_order_dow  \n",
       "243432       4.666667  "
      ]
     },
     "execution_count": 166,
     "metadata": {},
     "output_type": "execute_result"
    }
   ],
   "source": [
    "# u_p average day of week ordered\n",
    "u_p_dow = order_products_prior.groupby(['product_id', 'user_id'], as_index=False)[\n",
    "    ['order_dow']].mean()\n",
    "u_p_dow.columns = ['product_id', 'user_id', 'u_p_order_dow']\n",
    "u_p_features = pd.merge(u_p_features, u_p_dow, on=[\n",
    "                        'product_id', 'user_id'], how='left')\n",
    "u_p_features.sample(1)"
   ]
  },
  {
   "cell_type": "code",
   "execution_count": 167,
   "metadata": {},
   "outputs": [
    {
     "data": {
      "text/html": [
       "<div>\n",
       "<style scoped>\n",
       "    .dataframe tbody tr th:only-of-type {\n",
       "        vertical-align: middle;\n",
       "    }\n",
       "\n",
       "    .dataframe tbody tr th {\n",
       "        vertical-align: top;\n",
       "    }\n",
       "\n",
       "    .dataframe thead th {\n",
       "        text-align: right;\n",
       "    }\n",
       "</style>\n",
       "<table border=\"1\" class=\"dataframe\">\n",
       "  <thead>\n",
       "    <tr style=\"text-align: right;\">\n",
       "      <th></th>\n",
       "      <th>product_id</th>\n",
       "      <th>user_id</th>\n",
       "      <th>u_p_total_orders</th>\n",
       "      <th>u_p_avg_add_to_cart_order</th>\n",
       "      <th>u_p_num_ordered</th>\n",
       "      <th>user_total_orders</th>\n",
       "      <th>u_p_order_rate</th>\n",
       "      <th>u_p_last_order_number</th>\n",
       "      <th>u_p_orders_since_last_purch</th>\n",
       "      <th>u_p_in_last_order</th>\n",
       "      <th>u_p_order_dow</th>\n",
       "      <th>u_p_order_hour</th>\n",
       "    </tr>\n",
       "  </thead>\n",
       "  <tbody>\n",
       "    <tr>\n",
       "      <th>370425</th>\n",
       "      <td>44632</td>\n",
       "      <td>5105</td>\n",
       "      <td>5</td>\n",
       "      <td>11.6</td>\n",
       "      <td>5</td>\n",
       "      <td>16</td>\n",
       "      <td>0.3125</td>\n",
       "      <td>16</td>\n",
       "      <td>0</td>\n",
       "      <td>0</td>\n",
       "      <td>4.0</td>\n",
       "      <td>12.4</td>\n",
       "    </tr>\n",
       "  </tbody>\n",
       "</table>\n",
       "</div>"
      ],
      "text/plain": [
       "        product_id  user_id  u_p_total_orders  u_p_avg_add_to_cart_order  \\\n",
       "370425       44632     5105                 5                       11.6   \n",
       "\n",
       "        u_p_num_ordered  user_total_orders  u_p_order_rate  \\\n",
       "370425                5                 16          0.3125   \n",
       "\n",
       "        u_p_last_order_number  u_p_orders_since_last_purch  u_p_in_last_order  \\\n",
       "370425                     16                            0                  0   \n",
       "\n",
       "        u_p_order_dow  u_p_order_hour  \n",
       "370425            4.0            12.4  "
      ]
     },
     "execution_count": 167,
     "metadata": {},
     "output_type": "execute_result"
    }
   ],
   "source": [
    "u_p_hour = order_products_prior.groupby(['product_id', 'user_id'], as_index=False)[\n",
    "    ['order_hour']].mean()\n",
    "u_p_hour.columns = ['product_id', 'user_id', 'u_p_order_hour']\n",
    "u_p_features = pd.merge(u_p_features, u_p_hour, on=[\n",
    "                        'product_id', 'user_id'], how='left')\n",
    "u_p_features.sample(1)"
   ]
  },
  {
   "cell_type": "code",
   "execution_count": 168,
   "metadata": {},
   "outputs": [],
   "source": [
    "# merging u_p_features with insta\n",
    "insta = insta.merge(u_p_features, on=['user_id', 'product_id'])\n",
    "\n",
    "insta = insta.merge(u_d_features, on=['user_id', 'product_id'])\n",
    "\n",
    "#insta['u_p_order_freq'] = insta['u_p_total_orders'] / insta['user_total_orders']\n",
    "insta['u_p_delta_hour'] = insta.u_p_order_hour - insta.u_train_hour\n",
    "insta['u_p_delta_dow'] = insta.u_p_order_dow - insta.u_train_order_dow\n",
    "insta['p_delta_hour'] = insta.p_order_hour - insta.u_train_hour\n",
    "insta['p_delta_dow'] = insta.p_order_dow - insta.u_train_order_dow\n",
    "\n",
    "insta.drop(['u_p_order_hour', 'p_order_hour', 'u_p_order_dow', 'p_order_dow', 'u_train_hour',\n",
    "            'u_train_order_dow', 'reorder_sum',  'user_total_orders','u_p_num_ordered', \n",
    "            'u_p_last_order_number','department_id'], axis=1, inplace=True)\n"
   ]
  },
  {
   "cell_type": "code",
   "execution_count": 169,
   "metadata": {},
   "outputs": [
    {
     "data": {
      "text/plain": [
       "(417037, 23)"
      ]
     },
     "execution_count": 169,
     "metadata": {},
     "output_type": "execute_result"
    }
   ],
   "source": [
    "insta.shape"
   ]
  },
  {
   "cell_type": "code",
   "execution_count": 170,
   "metadata": {},
   "outputs": [
    {
     "name": "stdout",
     "output_type": "stream",
     "text": [
      "Index(['product_id', 'user_id', 'latest_cart', 'in_cart', 'p_total_orders',\n",
      "       'p_avg_add_cart_order', 'p_reorder_rate', 'a_reorder_rate',\n",
      "       'd_reorder_rate', 'u_total_orders', 'u_avg_cartsize',\n",
      "       'u_total_products', 'u_avg_days_since_prior_order', 'u_p_total_orders',\n",
      "       'u_p_avg_add_to_cart_order', 'u_p_order_rate',\n",
      "       'u_p_orders_since_last_purch', 'u_p_in_last_order', 'u_d_order_rate',\n",
      "       'u_p_delta_hour', 'u_p_delta_dow', 'p_delta_hour', 'p_delta_dow'],\n",
      "      dtype='object') \n",
      " 23\n"
     ]
    }
   ],
   "source": [
    "print(insta.columns, '\\n', len(insta.columns))"
   ]
  },
  {
   "cell_type": "markdown",
   "metadata": {},
   "source": [
    "# Modeling"
   ]
  },
  {
   "cell_type": "code",
   "execution_count": 171,
   "metadata": {},
   "outputs": [],
   "source": [
    "# splitting the data into test, val, train subsets function\n",
    "def get_user_split_data(df, test_size=.20, seed=42):\n",
    "\n",
    "    rs = np.random.RandomState(seed)\n",
    "\n",
    "    total_users = df['user_id'].unique()\n",
    "    test_users = rs.choice(total_users,\n",
    "                           size=int(total_users.shape[0] * test_size),\n",
    "                           replace=False)\n",
    "    df_te = df[df['user_id'].isin(test_users)]\n",
    "\n",
    "    df_val_tr = df[~df['user_id'].isin(test_users)]\n",
    "\n",
    "    val_tr_users = df_val_tr['user_id'].unique()\n",
    "\n",
    "    val_users = (rs.choice(val_tr_users,\n",
    "                           size=int(val_tr_users.shape[0] * test_size),\n",
    "                           replace=False))\n",
    "\n",
    "    df_tr = df_val_tr[~df_val_tr['user_id'].isin(val_users)]\n",
    "\n",
    "    df_val = df_val_tr[df_val_tr['user_id'].isin(val_users)]\n",
    "\n",
    "    y_tr, y_te, y_val = df_tr['in_cart'], df_te['in_cart'], df_val['in_cart']\n",
    "    X_tr = df_tr.drop(\n",
    "        ['product_id', 'user_id', 'latest_cart', 'in_cart'], axis=1)\n",
    "    X_te = df_te.drop(\n",
    "        ['product_id', 'user_id', 'latest_cart', 'in_cart'], axis=1)\n",
    "    X_val = df_val.drop(\n",
    "        ['product_id', 'user_id', 'latest_cart', 'in_cart'], axis=1)\n",
    "    return X_tr, X_te, X_val, y_tr, y_te, y_val"
   ]
  },
  {
   "cell_type": "code",
   "execution_count": 172,
   "metadata": {},
   "outputs": [],
   "source": [
    "# splitting the data\n",
    "X_tr, X_te, X_val, y_tr, y_te, y_val = get_user_split_data(insta)"
   ]
  },
  {
   "cell_type": "markdown",
   "metadata": {},
   "source": [
    "## Model= All prev ordered products"
   ]
  },
  {
   "cell_type": "code",
   "execution_count": 173,
   "metadata": {},
   "outputs": [
    {
     "name": "stdout",
     "output_type": "stream",
     "text": [
      "All prev purchases model:\n",
      "f1 score =  0.17057393418424938\n",
      "precision =  0.0932390422174233\n",
      "recall =  1.0\n"
     ]
    }
   ],
   "source": [
    "y_1 = np.ones(len(y_te))\n",
    "print('All prev purchases model:')\n",
    "print('f1 score = ', f1_score(y_te, y_1))\n",
    "print('precision = ', precision_score(y_te,y_1))\n",
    "print('recall = ', recall_score(y_te, y_1))"
   ]
  },
  {
   "cell_type": "markdown",
   "metadata": {},
   "source": [
    "## Model = Last cart"
   ]
  },
  {
   "cell_type": "code",
   "execution_count": 174,
   "metadata": {},
   "outputs": [
    {
     "name": "stdout",
     "output_type": "stream",
     "text": [
      "Last cart model:\n",
      "f1 score =  0.1672823828215193\n",
      "precision score =  0.15307416015212338\n",
      "recall=  0.18439806566556374\n"
     ]
    }
   ],
   "source": [
    "insta2 = X_te.copy()\n",
    "y_last = X_te.u_p_in_last_order\n",
    "print('Last cart model:')\n",
    "print('f1 score = ', f1_score(y_te, y_last))\n",
    "print('precision score = ', precision_score( y_te, y_last))\n",
    "print('recall= ', recall_score(y_te, y_last))"
   ]
  },
  {
   "cell_type": "markdown",
   "metadata": {},
   "source": [
    "## Logistic Regression"
   ]
  },
  {
   "cell_type": "code",
   "execution_count": 175,
   "metadata": {
    "scrolled": true
   },
   "outputs": [
    {
     "name": "stdout",
     "output_type": "stream",
     "text": [
      "f1 score =  0.40036507453605114\n",
      "The time difference is : 10.113730399985798\n"
     ]
    },
    {
     "name": "stderr",
     "output_type": "stream",
     "text": [
      "/home/dgou1218/anaconda3/envs/metis/lib/python3.7/site-packages/sklearn/linear_model/_logistic.py:940: ConvergenceWarning: lbfgs failed to converge (status=1):\n",
      "STOP: TOTAL NO. of ITERATIONS REACHED LIMIT.\n",
      "\n",
      "Increase the number of iterations (max_iter) or scale the data as shown in:\n",
      "    https://scikit-learn.org/stable/modules/preprocessing.html\n",
      "Please also refer to the documentation for alternative solver options:\n",
      "    https://scikit-learn.org/stable/modules/linear_model.html#logistic-regression\n",
      "  extra_warning_msg=_LOGISTIC_SOLVER_CONVERGENCE_MSG)\n"
     ]
    }
   ],
   "source": [
    "starttime = timeit.default_timer()\n",
    "\n",
    "lr = LogisticRegression(C=1, class_weight={1: 5, 0: 1}, max_iter=300)\n",
    "lr.fit(X_tr, y_tr)\n",
    "score = f1_score(y_val, lr.predict(X_val))\n",
    "print('f1 score = ', score)\n",
    "\n",
    "print(\"The time difference is :\", timeit.default_timer() - starttime)"
   ]
  },
  {
   "cell_type": "code",
   "execution_count": 176,
   "metadata": {},
   "outputs": [
    {
     "name": "stdout",
     "output_type": "stream",
     "text": [
      "Precision Score = 0.3324911571500758\n"
     ]
    }
   ],
   "source": [
    "print('Precision Score =', precision_score(y_val, lr.predict(X_val)))"
   ]
  },
  {
   "cell_type": "code",
   "execution_count": 177,
   "metadata": {},
   "outputs": [
    {
     "name": "stdout",
     "output_type": "stream",
     "text": [
      "Recall Score = 0.5030581039755352\n"
     ]
    }
   ],
   "source": [
    "print('Recall Score =', recall_score(y_val, lr.predict(X_val)))"
   ]
  },
  {
   "cell_type": "markdown",
   "metadata": {},
   "source": [
    "## XGBoost"
   ]
  },
  {
   "cell_type": "code",
   "execution_count": 178,
   "metadata": {},
   "outputs": [],
   "source": [
    "xgb = xgb.XGBClassifier(\n",
    "    n_estimators=500,\n",
    "    max_depth=8,\n",
    "    objective=\"binary:logistic\",\n",
    "    learning_rate=.1,\n",
    "    subsample=1,\n",
    "    min_child_weight=0.8,\n",
    "    colsample_bytree=.8,\n",
    "    scale_pos_weight=3.8\n",
    ")"
   ]
  },
  {
   "cell_type": "code",
   "execution_count": 179,
   "metadata": {},
   "outputs": [
    {
     "name": "stdout",
     "output_type": "stream",
     "text": [
      "The time difference is : 17.85518630000297\n"
     ]
    }
   ],
   "source": [
    "starttime = timeit.default_timer()\n",
    "eval_set = [(X_tr, y_tr), (X_val, y_val)]  # tracking train error as we go\n",
    "xgb.fit(\n",
    "    X_tr, y_tr,\n",
    "    eval_set=eval_set,\n",
    "    eval_metric='aucpr',\n",
    "    early_stopping_rounds=20,\n",
    "    verbose=False\n",
    ")\n",
    "\n",
    "print(\"The time difference is :\", timeit.default_timer() - starttime)"
   ]
  },
  {
   "cell_type": "code",
   "execution_count": 180,
   "metadata": {},
   "outputs": [
    {
     "data": {
      "text/plain": [
       "47"
      ]
     },
     "execution_count": 180,
     "metadata": {},
     "output_type": "execute_result"
    }
   ],
   "source": [
    "xgb.best_ntree_limit"
   ]
  },
  {
   "cell_type": "code",
   "execution_count": 181,
   "metadata": {},
   "outputs": [
    {
     "data": {
      "text/plain": [
       "0.41565149048447764"
      ]
     },
     "execution_count": 181,
     "metadata": {},
     "output_type": "execute_result"
    }
   ],
   "source": [
    "f1_score(y_te,xgb.predict(X_te, ntree_limit=xgb.best_ntree_limit))"
   ]
  },
  {
   "cell_type": "code",
   "execution_count": 182,
   "metadata": {},
   "outputs": [
    {
     "data": {
      "text/plain": [
       "0.4711122423008399"
      ]
     },
     "execution_count": 182,
     "metadata": {},
     "output_type": "execute_result"
    }
   ],
   "source": [
    "recall_score(y_te,xgb.predict(X_te, ntree_limit=xgb.best_ntree_limit))"
   ]
  },
  {
   "cell_type": "code",
   "execution_count": 183,
   "metadata": {},
   "outputs": [
    {
     "data": {
      "text/plain": [
       "0.37187343043696636"
      ]
     },
     "execution_count": 183,
     "metadata": {},
     "output_type": "execute_result"
    }
   ],
   "source": [
    "precision_score(y_te, xgb.predict(X_te, ntree_limit=xgb.best_ntree_limit))"
   ]
  },
  {
   "cell_type": "code",
   "execution_count": 184,
   "metadata": {},
   "outputs": [
    {
     "name": "stdout",
     "output_type": "stream",
     "text": [
      "XGBClassifier confusion matrix: \n",
      "\n",
      " [[70167  6253]\n",
      " [ 4156  3702]]\n"
     ]
    }
   ],
   "source": [
    "print(\"XGBClassifier confusion matrix: \\n\\n\", confusion_matrix(y_te, xgb.predict(X_te, ntree_limit=xgb.best_ntree_limit)))"
   ]
  },
  {
   "cell_type": "code",
   "execution_count": 185,
   "metadata": {},
   "outputs": [
    {
     "data": {
      "image/png": "[encoded data removed]",
      "text/plain": [
       "<Figure size 1152x576 with 2 Axes>"
      ]
     },
     "metadata": {},
     "output_type": "display_data"
    }
   ],
   "source": [
    "# Print confusion matrix for xgb\n",
    "xgb_confusion = confusion_matrix(y_te, xgb.predict(X_te, ntree_limit=xgb.best_ntree_limit))\n",
    "\n",
    "plt.figure(figsize=(16,8))\n",
    "ax=sns.heatmap(xgb_confusion, cmap=plt.cm.Blues, annot=True, square=True, fmt='d', annot_kws={\"size\": 20})\n",
    "plt.xlabel('Predicted \"in cart\" products', fontsize=15)\n",
    "plt.ylabel('Actual \"in cart\" products', fontsize=15)\n",
    "plt.title('XGBClassifier confusion matrix', fontsize=20);"
   ]
  },
  {
   "cell_type": "markdown",
   "metadata": {},
   "source": [
    "## Feature importance"
   ]
  },
  {
   "cell_type": "code",
   "execution_count": 186,
   "metadata": {},
   "outputs": [
    {
     "name": "stdout",
     "output_type": "stream",
     "text": [
      "('u_p_orders_since_last_purch', 0.33385754) \n",
      "\n",
      "('u_p_order_rate', 0.23389834) \n",
      "\n",
      "('u_p_total_orders', 0.13914146) \n",
      "\n",
      "('u_p_in_last_order', 0.03028773) \n",
      "\n",
      "('p_reorder_rate', 0.028600968) \n",
      "\n",
      "('u_total_orders', 0.026421163) \n",
      "\n",
      "('a_reorder_rate', 0.023563942) \n",
      "\n",
      "('u_total_products', 0.01924929) \n",
      "\n",
      "('u_avg_days_since_prior_order', 0.01850537) \n",
      "\n",
      "('u_avg_cartsize', 0.018300753) \n",
      "\n",
      "('p_total_orders', 0.018018126) \n",
      "\n",
      "('u_d_order_rate', 0.014779536) \n",
      "\n",
      "('d_reorder_rate', 0.0141046) \n",
      "\n",
      "('p_delta_dow', 0.013947363) \n",
      "\n",
      "('p_avg_add_cart_order', 0.013731695) \n",
      "\n",
      "('p_delta_hour', 0.013615782) \n",
      "\n",
      "('u_p_delta_dow', 0.013569983) \n",
      "\n",
      "('u_p_delta_hour', 0.013522407) \n",
      "\n",
      "('u_p_avg_add_to_cart_order', 0.012883995) \n",
      "\n"
     ]
    },
    {
     "data": {
      "text/plain": [
       "([0, 1, 2, 3, 4, 5, 6, 7], <a list of 8 Text yticklabel objects>)"
      ]
     },
     "execution_count": 186,
     "metadata": {},
     "output_type": "execute_result"
    },
    {
     "data": {
      "image/png": "[encoded data removed]",
      "text/plain": [
       "<Figure size 720x432 with 1 Axes>"
      ]
     },
     "metadata": {},
     "output_type": "display_data"
    }
   ],
   "source": [
    "f_imp = zip(X_te.columns, xgb.feature_importances_)\n",
    "f_imp = sorted(f_imp, key=lambda x: x[1], reverse=True)\n",
    "for i in f_imp:\n",
    "    print(i, '\\n')\n",
    "\n",
    "df = pd.DataFrame(list(f_imp), columns=['f', 'fe']).head(\n",
    "    8).sort_values(by='fe')\n",
    "plt.figure(figsize=(10, 6))\n",
    "plt.barh(df.f, df.fe)\n",
    "plt.title('Feature Importance', fontsize=20)\n",
    "plt.xlabel('Percentage')\n",
    "plt.yticks(fontsize=15)"
   ]
  },
  {
   "cell_type": "code",
   "execution_count": null,
   "metadata": {},
   "outputs": [],
   "source": []
  }
 ],
 "metadata": {
  "kernelspec": {
   "display_name": "Python 3.7.7 64-bit ('metis': conda)",
   "language": "python",
   "name": "python37764bitmetiscondad1ef69055bed43faa781cf5fcb0a3256"
  },
  "language_info": {
   "codemirror_mode": {
    "name": "ipython",
    "version": 3
   },
   "file_extension": ".py",
   "mimetype": "text/x-python",
   "name": "python",
   "nbconvert_exporter": "python",
   "pygments_lexer": "ipython3",
   "version": "3.7.7"
  },
  "toc": {
   "base_numbering": 1,
   "nav_menu": {},
   "number_sections": true,
   "sideBar": true,
   "skip_h1_title": false,
   "title_cell": "Table of Contents",
   "title_sidebar": "Contents",
   "toc_cell": false,
   "toc_position": {
    "height": "calc(100% - 180px)",
    "left": "10px",
    "top": "150px",
    "width": "164.979px"
   },
   "toc_section_display": true,
   "toc_window_display": true
  }
 },
 "nbformat": 4,
 "nbformat_minor": 4
}
